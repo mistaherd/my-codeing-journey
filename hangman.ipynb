{
 "cells": [
  {
   "cell_type": "code",
   "execution_count": 6,
   "metadata": {},
   "outputs": [],
   "source": [
    "import random \n",
    "import pandas as pd\n",
    "import numpy as np\n",
    "\n",
    "words={\n",
    "\"household pet\":\"cat\",\n",
    "\"seemingly mocked by fate\":\"ironic\",\n",
    "\"abilty to learn\":\"Intelligence\",\n",
    "\"something you use in kitchen\":\"handkerchief\",\n",
    "\"a type of writeing error\":\"missspell\"\n",
    "}\n",
    "lives=6"
   ]
  },
  {
   "cell_type": "code",
   "execution_count": null,
   "metadata": {},
   "outputs": [],
   "source": [
    "def looselives(number :int,num_of_lives):\n",
    "    if number == 1: num_of_lives +1\n",
    "    if number == 0: num_of_lives"
   ]
  },
  {
   "cell_type": "code",
   "execution_count": null,
   "metadata": {},
   "outputs": [],
   "source": []
  },
  {
   "cell_type": "code",
   "execution_count": 14,
   "metadata": {},
   "outputs": [
    {
     "data": {
      "text/plain": [
       "('something you use in kitchen', 'handkerchief')"
      ]
     },
     "execution_count": 14,
     "metadata": {},
     "output_type": "execute_result"
    }
   ],
   "source": [
    "Hint=random.choice(list(words.keys()))\n",
    "\n",
    "\n",
    "word_choice=words[Hint]\n",
    "if not len(store_text()) >= 1:\n",
    "    if len(store_text()) ==0:\n",
    "        "
   ]
  },
  {
   "cell_type": "code",
   "execution_count": 1,
   "metadata": {},
   "outputs": [
    {
     "name": "stdout",
     "output_type": "stream",
     "text": [
      "Stored text: w\n"
     ]
    }
   ],
   "source": [
    "import tkinter as tk\n",
    "\n",
    "def store_text():\n",
    "    text = entry.get()  # Get the text from the entry widget\n",
    "    print(\"Stored text:\", text)  # You can replace this with your desired logic\n",
    "    return text\n",
    "root = tk.Tk()\n",
    "\n",
    "# Create a canvas for the picture\n",
    "canvas = tk.Canvas(root, width=200, height=200)  # Adjust the width and height as per your requirements\n",
    "canvas.pack()\n",
    "\n",
    "# Create a placeholder rectangle for the picture\n",
    "canvas.create_rectangle(50, 50, 150, 150, fill=\"lightgray\")  # Adjust the coordinates as per your requirements\n",
    "\n",
    "# Create a line above the text\n",
    "line_length = 20  # Set the desired line length\n",
    "line = \"_ \" * line_length\n",
    "line_label = tk.Label(root, text=line)\n",
    "line_label.pack()\n",
    "\n",
    "# Create a text box (Entry widget)\n",
    "entry = tk.Entry(root)\n",
    "entry.pack()\n",
    "\n",
    "# Create a button\n",
    "button = tk.Button(root, text=\"Store\", command=store_text)\n",
    "button.pack()\n",
    "\n",
    "root.mainloop()\n"
   ]
  }
 ],
 "metadata": {
  "kernelspec": {
   "display_name": "python310",
   "language": "python",
   "name": "python3"
  },
  "language_info": {
   "codemirror_mode": {
    "name": "ipython",
    "version": 3
   },
   "file_extension": ".py",
   "mimetype": "text/x-python",
   "name": "python",
   "nbconvert_exporter": "python",
   "pygments_lexer": "ipython3",
   "version": "3.10.9"
  },
  "orig_nbformat": 4
 },
 "nbformat": 4,
 "nbformat_minor": 2
}
