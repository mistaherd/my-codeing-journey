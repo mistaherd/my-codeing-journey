{
 "cells": [
  {
   "cell_type": "code",
   "execution_count": 1,
   "metadata": {},
   "outputs": [
    {
     "name": "stdout",
     "output_type": "stream",
     "text": [
      "Collecting opencv-python\n",
      "  Obtaining dependency information for opencv-python from https://files.pythonhosted.org/packages/fb/c4/f574ba6f04e6d7bf8c38d23e7a52389566dd7631fee0bcdd79ea07ef2dbf/opencv_python-4.8.0.76-cp37-abi3-win_amd64.whl.metadata\n",
      "  Downloading opencv_python-4.8.0.76-cp37-abi3-win_amd64.whl.metadata (20 kB)\n",
      "Requirement already satisfied: numpy>=1.21.2 in c:\\users\\user\\anaconda3\\lib\\site-packages (from opencv-python) (1.24.3)\n",
      "Downloading opencv_python-4.8.0.76-cp37-abi3-win_amd64.whl (38.1 MB)\n",
      "   ---------------------------------------- 0.0/38.1 MB ? eta -:--:--\n",
      "    --------------------------------------- 0.6/38.1 MB 12.0 MB/s eta 0:00:04\n",
      "   - -------------------------------------- 1.4/38.1 MB 15.0 MB/s eta 0:00:03\n",
      "   -- ------------------------------------- 2.7/38.1 MB 18.7 MB/s eta 0:00:02\n",
      "   ---- ----------------------------------- 4.2/38.1 MB 22.2 MB/s eta 0:00:02\n",
      "   ------ --------------------------------- 6.0/38.1 MB 25.8 MB/s eta 0:00:02\n",
      "   -------- ------------------------------- 7.9/38.1 MB 28.2 MB/s eta 0:00:02\n",
      "   ---------- ----------------------------- 9.8/38.1 MB 29.8 MB/s eta 0:00:01\n",
      "   ----------- ---------------------------- 10.9/38.1 MB 31.2 MB/s eta 0:00:01\n",
      "   ------------ --------------------------- 12.2/38.1 MB 34.4 MB/s eta 0:00:01\n",
      "   -------------- ------------------------- 13.7/38.1 MB 36.4 MB/s eta 0:00:01\n",
      "   ---------------- ----------------------- 15.3/38.1 MB 34.4 MB/s eta 0:00:01\n",
      "   ------------------ --------------------- 17.3/38.1 MB 34.4 MB/s eta 0:00:01\n",
      "   -------------------- ------------------- 19.8/38.1 MB 36.3 MB/s eta 0:00:01\n",
      "   ----------------------- ---------------- 22.5/38.1 MB 46.7 MB/s eta 0:00:01\n",
      "   -------------------------- ------------- 25.2/38.1 MB 54.7 MB/s eta 0:00:01\n",
      "   ----------------------------- ---------- 27.7/38.1 MB 59.5 MB/s eta 0:00:01\n",
      "   ------------------------------- -------- 29.7/38.1 MB 54.7 MB/s eta 0:00:01\n",
      "   --------------------------------- ------ 31.5/38.1 MB 50.4 MB/s eta 0:00:01\n",
      "   ------------------------------------ --- 34.6/38.1 MB 50.4 MB/s eta 0:00:01\n",
      "   ---------------------------------------  37.5/38.1 MB 54.4 MB/s eta 0:00:01\n",
      "   ---------------------------------------  38.1/38.1 MB 50.4 MB/s eta 0:00:01\n",
      "   ---------------------------------------  38.1/38.1 MB 50.4 MB/s eta 0:00:01\n",
      "   ---------------------------------------  38.1/38.1 MB 50.4 MB/s eta 0:00:01\n",
      "   ---------------------------------------  38.1/38.1 MB 50.4 MB/s eta 0:00:01\n",
      "   ---------------------------------------  38.1/38.1 MB 50.4 MB/s eta 0:00:01\n",
      "   ---------------------------------------  38.1/38.1 MB 50.4 MB/s eta 0:00:01\n",
      "   ---------------------------------------  38.1/38.1 MB 50.4 MB/s eta 0:00:01\n",
      "   ---------------------------------------  38.1/38.1 MB 50.4 MB/s eta 0:00:01\n",
      "   ---------------------------------------  38.1/38.1 MB 50.4 MB/s eta 0:00:01\n",
      "   ---------------------------------------  38.1/38.1 MB 50.4 MB/s eta 0:00:01\n",
      "   ---------------------------------------  38.1/38.1 MB 50.4 MB/s eta 0:00:01\n",
      "   ---------------------------------------  38.1/38.1 MB 50.4 MB/s eta 0:00:01\n",
      "   ---------------------------------------- 38.1/38.1 MB 12.8 MB/s eta 0:00:00\n",
      "Installing collected packages: opencv-python\n",
      "Successfully installed opencv-python-4.8.0.76\n"
     ]
    }
   ],
   "source": [
    "! pip install opencv-python"
   ]
  },
  {
   "cell_type": "code",
   "execution_count": 36,
   "metadata": {},
   "outputs": [
    {
     "name": "stdout",
     "output_type": "stream",
     "text": [
      "[ 4 20 38 48 40 32 41 29 11 -1  4]\n",
      "[38 48 40 32 41 29]\n"
     ]
    }
   ],
   "source": [
    "import numpy as np\n",
    "#xn =[2,3,-2,1]\n",
    "xn=[2,6,2,2,3,4]\n",
    "xn =np.array(xn)\n",
    "hn=[2,4,5,3,-1,1]\n",
    "hn =np.array(hn)\n",
    "\n",
    "\n",
    "yn=np.convolve(xn,hn)\n",
    "print(yn)\n",
    "yn=np.convolve(xn,hn,\"same\")\n",
    "print(yn)"
   ]
  },
  {
   "cell_type": "markdown",
   "metadata": {},
   "source": [
    "# DFT"
   ]
  },
  {
   "cell_type": "code",
   "execution_count": 43,
   "metadata": {},
   "outputs": [
    {
     "name": "stderr",
     "output_type": "stream",
     "text": [
      "c:\\Users\\User\\anaconda3\\Lib\\site-packages\\matplotlib\\cbook\\__init__.py:1335: ComplexWarning: Casting complex values to real discards the imaginary part\n",
      "  return np.asarray(x, float)\n"
     ]
    },
    {
     "data": {
      "text/plain": [
       "array([19. +0.00000000e+00j,  2.5-8.66025404e-01j, -3.5-2.59807621e+00j,\n",
       "       -5. +2.22044605e-16j, -3.5+2.59807621e+00j,  2.5+8.66025404e-01j])"
      ]
     },
     "execution_count": 43,
     "metadata": {},
     "output_type": "execute_result"
    },
    {
     "data": {
      "image/png": "[encoded data removed]",
      "text/plain": [
       "<Figure size 640x480 with 1 Axes>"
      ]
     },
     "metadata": {},
     "output_type": "display_data"
    }
   ],
   "source": [
    "import matplotlib.pylab as plt\n",
    "pn = xn +3\n",
    "\"\"\"\n",
    "plt.plot(xn)\n",
    "plt.plot(pn)\n",
    "plt.show()\n",
    "\"\"\"\n",
    "\n",
    "zn = np.fft.fft(xn)\n",
    "plt.plot(zn)\n",
    "zn"
   ]
  }
 ],
 "metadata": {
  "kernelspec": {
   "display_name": "base",
   "language": "python",
   "name": "python3"
  },
  "language_info": {
   "codemirror_mode": {
    "name": "ipython",
    "version": 3
   },
   "file_extension": ".py",
   "mimetype": "text/x-python",
   "name": "python",
   "nbconvert_exporter": "python",
   "pygments_lexer": "ipython3",
   "version": "3.11.4"
  },
  "orig_nbformat": 4
 },
 "nbformat": 4,
 "nbformat_minor": 2
}
