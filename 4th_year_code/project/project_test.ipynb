{
 "cells": [
  {
   "cell_type": "markdown",
   "metadata": {},
   "source": [
    "# this is a place for all the  project ideas\n",
    "\n",
    "1. Lora\n",
    "2. robitics project\n",
    "3. modultion classifer\n",
    "4. volte datasete \n",
    "5. ardunio under the hood\n",
    "\n",
    "# lora network\n",
    "## breif outlook\n",
    "this project the folling \n",
    "1. a system to picture the spices\n",
    "2. setting up a network\n",
    "3. a possible gui to  setup online maybe  even  display info on it \n",
    "4. connnecting the board  with  fec \n",
    "## questions\n",
    "\n",
    "- will i have to  make the circuit for this \n",
    "\n",
    "- what is the lora network\n",
    " - LoRaWAN is a low-power, wide area networking protocol built on top of the LoRa radio modulation technique\n",
    "\n",
    "- what is the lora radio modulation scheme\n",
    "    - css (chirp spreed spectrum)\n",
    "\n",
    "- what is the  hardware that it uses\n",
    "\n",
    "- data rate is limted\n",
    "\n",
    "- will i be able to transfer picture\n",
    "\n",
    "\n",
    "## gui sysstems :"
   ]
  },
  {
   "cell_type": "code",
   "execution_count": null,
   "metadata": {},
   "outputs": [],
   "source": [
    "#this is will use this liabary"
   ]
  },
  {
   "cell_type": "markdown",
   "metadata": {},
   "source": [
    "# robitcs project\n",
    "\n",
    "## breief outline\n",
    "1. gui system  for the robot where based pon    \n",
    "2. C++ \n",
    "3. processor \n",
    "4. basically letting  jason take the wheel\n",
    "\n",
    "## questions\n",
    "\n",
    "- am i confident to   take this challenge on \n",
    "\n",
    "- what will i have to brush up on \n",
    "\n",
    "- how will i adapt to  randomness\n",
    "\n",
    "# modultion classiefer\n",
    "## breif outline\n",
    "1. establish all the modultions to classify :\n",
    "\n",
    "    - 256 QAM\n",
    "\n",
    "    - BPSK\n",
    "\n",
    "    - PAM\n",
    "\n",
    "    - PDM\n",
    "2. form math equations  for each\n",
    "3. establish  the  goal\n",
    "## questions\n",
    "1. does this be simulated or tested\n",
    "\n",
    "3. how to test whats what \n",
    "4. turn this into a data set  \n",
    "\n",
    "5. report on the findings\n",
    "\n",
    "\n",
    "\n",
    "\n",
    "\n"
   ]
  },
  {
   "cell_type": "markdown",
   "metadata": {},
   "source": [
    "# arudino  project\n",
    "## breif outline \n",
    "1. Establsih how the hardware is place\n",
    "2. Find the  Arudiono ide documnet  find the advantages\n",
    "3. Find how to program it with C++ \n",
    "4. describe the  intrnal system \n",
    "## questions\n",
    "1. How will i find the circuit diagram\n",
    "2. Liabaries allowed or not \n",
    "3. is  this that deep"
   ]
  }
 ],
 "metadata": {
  "kernelspec": {
   "display_name": "Python 3",
   "language": "python",
   "name": "python3"
  },
  "language_info": {
   "name": "python",
   "version": "3.10.12"
  },
  "orig_nbformat": 4
 },
 "nbformat": 4,
 "nbformat_minor": 2
}
