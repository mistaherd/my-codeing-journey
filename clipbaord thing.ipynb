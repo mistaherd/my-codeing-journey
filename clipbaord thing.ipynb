{
 "cells": [
  {
   "attachments": {},
   "cell_type": "markdown",
   "metadata": {},
   "source": [
    "# run this cell  for copy paste"
   ]
  },
  {
   "cell_type": "code",
   "execution_count": 2,
   "metadata": {},
   "outputs": [
    {
     "name": "stdout",
     "output_type": "stream",
     "text": [
      "you have last copyied CRQ000000253823. do you want to continue press 'Shift+y'/'Shift+n'\n",
      "you have printed 2 so far out of 10 so far\n",
      "you have last copyied CRQ000000253825. do you want to continue press 'Shift+y'/'Shift+n'\n",
      "you have printed 3 so far out of 9 so far\n",
      "you have last copyied CRQ000000253826. do you want to continue press 'Shift+y'/'Shift+n'\n",
      "you have printed 4 so far out of 8 so far\n",
      "you have last copyied CRQ000000253827. do you want to continue press 'Shift+y'/'Shift+n'\n",
      "you have printed 5 so far out of 7 so far\n",
      "you have last copyied CRQ000000253828. do you want to continue press 'Shift+y'/'Shift+n'\n",
      "you have printed 6 so far out of 6 so far\n",
      "you have last copyied CRQ000000253829. do you want to continue press 'Shift+y'/'Shift+n'\n",
      "you have printed 7 so far out of 5 so far\n",
      "you have last copyied CRQ000000253830. do you want to continue press 'Shift+y'/'Shift+n'\n",
      "you have printed 8 so far out of 4 so far\n",
      "you have last copyied CRQ000000253831. do you want to continue press 'Shift+y'/'Shift+n'\n",
      "you have printed 9 so far out of 3 so far\n"
     ]
    },
    {
     "ename": "AttributeError",
     "evalue": "'NoneType' object has no attribute 'decode'",
     "output_type": "error",
     "traceback": [
      "\u001b[1;31m---------------------------------------------------------------------------\u001b[0m",
      "\u001b[1;31mAttributeError\u001b[0m                            Traceback (most recent call last)",
      "\u001b[1;32m<ipython-input-2-f100ea5cf6da>\u001b[0m in \u001b[0;36m<module>\u001b[1;34m()\u001b[0m\n\u001b[0;32m     79\u001b[0m     \u001b[0mdata\u001b[0m\u001b[1;33m.\u001b[0m\u001b[0mto_csv\u001b[0m\u001b[1;33m(\u001b[0m\u001b[1;34m\"data.csv\"\u001b[0m\u001b[1;33m)\u001b[0m\u001b[1;33m\u001b[0m\u001b[0m\n\u001b[0;32m     80\u001b[0m \u001b[1;33m\u001b[0m\u001b[0m\n\u001b[1;32m---> 81\u001b[1;33m \u001b[0mmain\u001b[0m\u001b[1;33m(\u001b[0m\u001b[1;33m)\u001b[0m\u001b[1;33m\u001b[0m\u001b[0m\n\u001b[0m\u001b[0;32m     82\u001b[0m \u001b[1;33m\u001b[0m\u001b[0m\n",
      "\u001b[1;32m<ipython-input-2-f100ea5cf6da>\u001b[0m in \u001b[0;36mmain\u001b[1;34m()\u001b[0m\n\u001b[0;32m     58\u001b[0m \u001b[1;33m\u001b[0m\u001b[0m\n\u001b[0;32m     59\u001b[0m     \u001b[1;32mwhile\u001b[0m\u001b[1;33m(\u001b[0m\u001b[1;36m1\u001b[0m\u001b[1;33m)\u001b[0m\u001b[1;33m:\u001b[0m\u001b[1;33m\u001b[0m\u001b[0m\n\u001b[1;32m---> 60\u001b[1;33m         \u001b[0mlist\u001b[0m\u001b[1;33m.\u001b[0m\u001b[0mappend\u001b[0m\u001b[1;33m(\u001b[0m\u001b[0mget_clipboard_text\u001b[0m\u001b[1;33m(\u001b[0m\u001b[1;33m)\u001b[0m\u001b[1;33m)\u001b[0m\u001b[1;33m\u001b[0m\u001b[0m\n\u001b[0m\u001b[0;32m     61\u001b[0m         \u001b[0mcount\u001b[0m \u001b[1;33m=\u001b[0m \u001b[0mcount\u001b[0m\u001b[1;33m+\u001b[0m\u001b[1;36m1\u001b[0m\u001b[1;33m\u001b[0m\u001b[0m\n\u001b[0;32m     62\u001b[0m         \u001b[0mpromptnumb\u001b[0m \u001b[1;33m=\u001b[0m \u001b[0mpromptnumb\u001b[0m\u001b[1;33m-\u001b[0m\u001b[1;36m1\u001b[0m\u001b[1;33m\u001b[0m\u001b[0m\n",
      "\u001b[1;32m<ipython-input-2-f100ea5cf6da>\u001b[0m in \u001b[0;36mget_clipboard_text\u001b[1;34m()\u001b[0m\n\u001b[0;32m     21\u001b[0m             \u001b[0mvalue\u001b[0m \u001b[1;33m=\u001b[0m \u001b[0mtext\u001b[0m\u001b[1;33m.\u001b[0m\u001b[0mvalue\u001b[0m\u001b[1;33m\u001b[0m\u001b[0m\n\u001b[0;32m     22\u001b[0m             \u001b[0mkernel32\u001b[0m\u001b[1;33m.\u001b[0m\u001b[0mGlobalUnlock\u001b[0m\u001b[1;33m(\u001b[0m\u001b[0mdata_locked\u001b[0m\u001b[1;33m)\u001b[0m\u001b[1;33m\u001b[0m\u001b[0m\n\u001b[1;32m---> 23\u001b[1;33m             \u001b[0mnew_value\u001b[0m\u001b[1;33m=\u001b[0m\u001b[0mvalue\u001b[0m\u001b[1;33m.\u001b[0m\u001b[0mdecode\u001b[0m\u001b[1;33m(\u001b[0m\u001b[1;34m\"utf-8\"\u001b[0m\u001b[1;33m)\u001b[0m\u001b[1;33m\u001b[0m\u001b[0m\n\u001b[0m\u001b[0;32m     24\u001b[0m \u001b[1;33m\u001b[0m\u001b[0m\n\u001b[0;32m     25\u001b[0m             \u001b[1;32mreturn\u001b[0m \u001b[0mnew_value\u001b[0m\u001b[1;33m\u001b[0m\u001b[0m\n",
      "\u001b[1;31mAttributeError\u001b[0m: 'NoneType' object has no attribute 'decode'"
     ]
    }
   ],
   "source": [
    "import ctypes\n",
    "import pandas as pd\n",
    "import keyboard as kb\n",
    "import time\n",
    "\n",
    "CF_TEXT = 1\n",
    "kernel32 = ctypes.windll.kernel32\n",
    "kernel32.GlobalLock.argtypes = [ctypes.c_void_p]\n",
    "kernel32.GlobalLock.restype = ctypes.c_void_p\n",
    "kernel32.GlobalUnlock.argtypes = [ctypes.c_void_p]\n",
    "user32 = ctypes.windll.user32\n",
    "user32.GetClipboardData.restype = ctypes.c_void_p\n",
    "\n",
    "def get_clipboard_text():\n",
    "    user32.OpenClipboard(0)\n",
    "    try:\n",
    "        if user32.IsClipboardFormatAvailable(CF_TEXT):\n",
    "            data = user32.GetClipboardData(CF_TEXT)\n",
    "            data_locked = kernel32.GlobalLock(data)\n",
    "            text = ctypes.c_char_p(data_locked)\n",
    "            value = text.value\n",
    "            kernel32.GlobalUnlock(data_locked)\n",
    "            new_value=value.decode(\"utf-8\")\n",
    "            \n",
    "            return new_value\n",
    "    finally:\n",
    "        user32.CloseClipboard()\n",
    "\n",
    "def promptuser():\n",
    "    import re\n",
    "    userprompt = input(\"how many Copies do you want ? \")\n",
    "    \n",
    "    while(not userprompt.isnumeric()):\n",
    "        userprompt = input(\"please enter a input that is a number: \")\n",
    "    userprompt = int(userprompt)\n",
    "    return userprompt\n",
    "\n",
    "def pastelogic(message):\n",
    "    \n",
    "    import time\n",
    "    import keyboard as kb\n",
    "    print(\"you have last copyied {}. do you want to continue press 'Shift+y'/'Shift+n'\".format(message),flush=True)\n",
    "    while not kb.is_pressed(\"Shift+y\") or not kb.is_pressed(\"Shift+n\"):\n",
    "        if kb.is_pressed(\"Shift+y\"):\n",
    "            time.sleep(0.90)\n",
    "          \n",
    "            return True\n",
    "        if kb.is_pressed(\"Shift+n\"):\n",
    "            time.sleep(0.90)\n",
    "          \n",
    "            return False\n",
    "\n",
    "def main():\n",
    "    list=[]\n",
    "    count= 0\n",
    "    promptnumb =promptuser()-1\n",
    "    \n",
    "    \n",
    "    while(1):\n",
    "        list.append(get_clipboard_text())\n",
    "        count = count+1\n",
    "\n",
    "        #if(input(\"you last copyied {} do you want to continue y/n: \".format(get_clipboard_text()))=='n' or promptnumb== 0):\n",
    "        #    if(promptnumb != 0 and input(\"are you sure want to exit your request for {} copies has not been forfilled y/n: \".format(promptnumb))== 'y'):\n",
    "        #        break\n",
    "        if not pastelogic(get_clipboard_text()) or promptnumb ==0:\n",
    "            if promptnumb != 0 and input(\"are you sure want to exit your request for {} copies has not been forfilled y/n: \".format(promptnumb))== 'y':\n",
    "                break\n",
    "        else:\n",
    "            time.sleep(2)\n",
    "            print(\"you have printed {} so far out of {} so far\".format(count+1,promptnumb))    \n",
    "            \n",
    "    clipboard_Session= pd.Series(list)\n",
    "    data = pd.DataFrame(clipboard_Session)\n",
    "    data.head()\n",
    "    print(clipboard_Session,flush=True)\n",
    "\n",
    "    data.to_csv(\"data.csv\")\n",
    "\n",
    "main()\n",
    "     "
   ]
  }
 ],
 "metadata": {
  "kernelspec": {
   "display_name": "base",
   "language": "python",
   "name": "python3"
  },
  "language_info": {
   "codemirror_mode": {
    "name": "ipython",
    "version": 3
   },
   "file_extension": ".py",
   "mimetype": "text/x-python",
   "name": "python",
   "nbconvert_exporter": "python",
   "pygments_lexer": "ipython3",
   "version": "3.6.5"
  },
  "orig_nbformat": 4
 },
 "nbformat": 4,
 "nbformat_minor": 2
}
