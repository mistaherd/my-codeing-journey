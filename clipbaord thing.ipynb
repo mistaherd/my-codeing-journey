{
 "cells": [
  {
   "attachments": {},
   "cell_type": "markdown",
   "metadata": {},
   "source": [
    "# run this cell  for copy paste"
   ]
  },
  {
   "cell_type": "code",
   "execution_count": 2,
   "metadata": {},
   "outputs": [
    {
     "name": "stdout",
     "output_type": "stream",
     "text": [
      "you have last copyied CRQ000000254706. do you want to continue press 'Shift+y'/'Shift+n'\n",
      "you have printed 2 so far out of 3 so far\n",
      "you have last copyied CRQ000000254708. do you want to continue press 'Shift+y'/'Shift+n'\n",
      "you have printed 3 so far out of 3 so far\n",
      "you have last copyied CRQ000000254710. do you want to continue press 'Shift+y'/'Shift+n'\n",
      "0    CRQ000000254706\n",
      "1    CRQ000000254708\n",
      "2    CRQ000000254710\n",
      "dtype: object\n"
     ]
    }
   ],
   "source": [
    "import ctypes\n",
    "import pandas as pd\n",
    "import keyboard as kb\n",
    "import time\n",
    "\n",
    "CF_TEXT = 1\n",
    "kernel32 = ctypes.windll.kernel32\n",
    "kernel32.GlobalLock.argtypes = [ctypes.c_void_p]\n",
    "kernel32.GlobalLock.restype = ctypes.c_void_p\n",
    "kernel32.GlobalUnlock.argtypes = [ctypes.c_void_p]\n",
    "user32 = ctypes.windll.user32\n",
    "user32.GetClipboardData.restype = ctypes.c_void_p\n",
    "\n",
    "def get_clipboard_text():\n",
    "    user32.OpenClipboard(0)\n",
    "    try:\n",
    "        if user32.IsClipboardFormatAvailable(CF_TEXT):\n",
    "            data = user32.GetClipboardData(CF_TEXT)\n",
    "            data_locked = kernel32.GlobalLock(data)\n",
    "            text = ctypes.c_char_p(data_locked)\n",
    "            value = text.value\n",
    "            kernel32.GlobalUnlock(data_locked)\n",
    "            new_value=value.decode(\"utf-8\")\n",
    "            \n",
    "            return new_value\n",
    "    finally:\n",
    "        user32.CloseClipboard()\n",
    "\n",
    "def promptuser():\n",
    "    import re\n",
    "    userprompt = input(\"how many Copies do you want ? \")\n",
    "    \n",
    "    while(not userprompt.isnumeric()):\n",
    "        userprompt = input(\"please enter a input that is a number: \")\n",
    "    userprompt = int(userprompt)\n",
    "    return userprompt\n",
    "\n",
    "def pastelogic(message):\n",
    "    \n",
    "    import time\n",
    "    import keyboard as kb\n",
    "    print(\"you have last copyied {}. do you want to continue press 'Shift+y'/'Shift+n'\".format(message),flush=True)\n",
    "    while not kb.is_pressed(\"Shift+y\") or not kb.is_pressed(\"Shift+n\"):\n",
    "        if kb.is_pressed(\"Shift+y\"):\n",
    "            time.sleep(0.90)\n",
    "          \n",
    "            return True\n",
    "        if kb.is_pressed(\"Shift+n\"):\n",
    "            time.sleep(0.90)\n",
    "          \n",
    "            return False\n",
    "\n",
    "def main():\n",
    "    list=[]\n",
    "    count= 0\n",
    "    promptnumb =promptuser()\n",
    "    \n",
    "    \n",
    "    while(1):\n",
    "        list.append(get_clipboard_text())\n",
    "        count = count+1\n",
    "\n",
    "        #if(input(\"you last copyied {} do you want to continue y/n: \".format(get_clipboard_text()))=='n' or promptnumb== 0):\n",
    "        #    if(promptnumb != 0 and input(\"are you sure want to exit your request for {} copies has not been forfilled y/n: \".format(promptnumb))== 'y'):\n",
    "        #        break\n",
    "        if not pastelogic(get_clipboard_text()):\n",
    "            if promptnumb != 0 and input(\"are you sure want to exit your request for {} copies has not been forfilled y/n: \".format(promptnumb))== 'y':\n",
    "                break\n",
    "        else:\n",
    "            time.sleep(2)\n",
    "            print(\"you have printed {} so far out of {} so far\".format(count+1,promptnumb))    \n",
    "            \n",
    "    clipboard_Session= pd.Series(list)\n",
    "    data = pd.DataFrame(clipboard_Session)\n",
    "    data.head()\n",
    "    print(clipboard_Session,flush=True)\n",
    "    data.loc[:len(data)].to_clipboard()\n",
    "    data.to_csv(\"data.csv\")\n",
    "    \n",
    "\n",
    "main()\n",
    "     "
   ]
  },
  {
   "cell_type": "code",
   "execution_count": 61,
   "metadata": {},
   "outputs": [
    {
     "data": {
      "text/html": [
       "<div>\n",
       "<style scoped>\n",
       "    .dataframe tbody tr th:only-of-type {\n",
       "        vertical-align: middle;\n",
       "    }\n",
       "\n",
       "    .dataframe tbody tr th {\n",
       "        vertical-align: top;\n",
       "    }\n",
       "\n",
       "    .dataframe thead th {\n",
       "        text-align: right;\n",
       "    }\n",
       "</style>\n",
       "<table border=\"1\" class=\"dataframe\">\n",
       "  <thead>\n",
       "    <tr style=\"text-align: right;\">\n",
       "      <th></th>\n",
       "      <th>Unnamed: 0</th>\n",
       "      <th>0</th>\n",
       "    </tr>\n",
       "  </thead>\n",
       "  <tbody>\n",
       "    <tr>\n",
       "      <th>0</th>\n",
       "      <td>0</td>\n",
       "      <td>CRQ000000254706</td>\n",
       "    </tr>\n",
       "    <tr>\n",
       "      <th>1</th>\n",
       "      <td>1</td>\n",
       "      <td>CRQ000000254708</td>\n",
       "    </tr>\n",
       "    <tr>\n",
       "      <th>2</th>\n",
       "      <td>2</td>\n",
       "      <td>CRQ000000254710</td>\n",
       "    </tr>\n",
       "  </tbody>\n",
       "</table>\n",
       "</div>"
      ],
      "text/plain": [
       "   Unnamed: 0                0\n",
       "0           0  CRQ000000254706\n",
       "1           1  CRQ000000254708\n",
       "2           2  CRQ000000254710"
      ]
     },
     "execution_count": 61,
     "metadata": {},
     "output_type": "execute_result"
    }
   ],
   "source": [
    "data=pd.read_csv(\"data.csv\")\n",
    "data.loc[:len(data)]"
   ]
  }
 ],
 "metadata": {
  "kernelspec": {
   "display_name": "base",
   "language": "python",
   "name": "python3"
  },
  "language_info": {
   "codemirror_mode": {
    "name": "ipython",
    "version": 3
   },
   "file_extension": ".py",
   "mimetype": "text/x-python",
   "name": "python",
   "nbconvert_exporter": "python",
   "pygments_lexer": "ipython3",
   "version": "3.6.5"
  },
  "orig_nbformat": 4
 },
 "nbformat": 4,
 "nbformat_minor": 2
}
