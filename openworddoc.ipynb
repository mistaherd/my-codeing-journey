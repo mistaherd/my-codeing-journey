{
 "cells": [
  {
   "attachments": {},
   "cell_type": "markdown",
   "metadata": {},
   "source": [
    "the goal with this code is present a way to print the contents of a table in word without haveing to open it "
   ]
  },
  {
   "cell_type": "code",
   "execution_count": null,
   "metadata": {},
   "outputs": [],
   "source": [
    "import docx\n",
    "import os\n",
    "import pandas as pd\n",
    "def open_lastest_word_doc(word_doc_name):\n",
    "    doc = docx.Document(word_doc_name)\n",
    "    tables=[]\n",
    "    for table in doc.tables:\n",
    "        df =[['' for i in range(len(table.columns))]for j in range(len(tables.rows))]\n",
    "        for i, row in enumerate(table.rows):\n",
    "            for j, cell in enumerate(row.cells):\n",
    "                if "
   ]
  }
 ],
 "metadata": {
  "kernelspec": {
   "display_name": "python310",
   "language": "python",
   "name": "python3"
  },
  "language_info": {
   "name": "python",
   "version": "3.10.9"
  },
  "orig_nbformat": 4
 },
 "nbformat": 4,
 "nbformat_minor": 2
}
