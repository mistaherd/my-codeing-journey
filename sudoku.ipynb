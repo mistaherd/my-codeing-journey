{
 "cells": [
  {
   "cell_type": "code",
   "execution_count": 1,
   "metadata": {},
   "outputs": [],
   "source": [
    "import numpy as np\n"
   ]
  },
  {
   "cell_type": "code",
   "execution_count": 8,
   "metadata": {},
   "outputs": [
    {
     "data": {
      "text/plain": [
       "[[0, 0, 0, 0, 0, 0, 0, 0, 0],\n",
       " [0, 0, 0, 0, 0, 0, 0, 0, 0],\n",
       " [0, 0, 0, 0, 0, 0, 0, 0, 0],\n",
       " [0, 0, 0, 0, 0, 0, 0, 0, 0],\n",
       " [0, 0, 0, 0, 0, 0, 0, 0, 0],\n",
       " [0, 0, 0, 0, 0, 0, 0, 0, 0],\n",
       " [0, 0, 0, 0, 0, 0, 0, 0, 0],\n",
       " [0, 0, 0, 0, 0, 0, 0, 0, 0],\n",
       " [0, 0, 0, 0, 0, 0, 0, 0, 0]]"
      ]
     },
     "execution_count": 8,
     "metadata": {},
     "output_type": "execute_result"
    }
   ],
   "source": [
    "grid =[[0]* 9 for _ in range(9)]\n",
    "grid"
   ]
  },
  {
   "cell_type": "code",
   "execution_count": 62,
   "metadata": {},
   "outputs": [
    {
     "name": "stdout",
     "output_type": "stream",
     "text": [
      "[0, 2, 0, 0, 9, 6, 7, 4, 1]\n",
      "[7, 0, 0, 0, 1, 4, 6, 0, 0]\n",
      "[0, 0, 0, 0, 8, 0, 0, 5, 3]\n",
      "[8, 3, 1, 4, 0, 7, 0, 9, 6]\n",
      "[2, 0, 0, 6, 3, 0, 0, 0, 7]\n",
      "[6, 0, 5, 9, 2, 8, 3, 1, 0]\n",
      "[0, 1, 7, 2, 0, 0, 8, 3, 5]\n",
      "[9, 6, 3, 8, 0, 5, 0, 0, 2]\n",
      "[5, 8, 2, 0, 7, 3, 4, 0, 0]\n",
      "\n",
      "Solution:\n",
      "[3, 2, 8, 5, 9, 6, 7, 4, 1]\n",
      "[7, 5, 9, 3, 1, 4, 6, 2, 8]\n",
      "[1, 4, 6, 7, 8, 2, 9, 5, 3]\n",
      "[8, 3, 1, 4, 5, 7, 2, 9, 6]\n",
      "[2, 9, 4, 6, 3, 1, 5, 8, 7]\n",
      "[6, 7, 5, 9, 2, 8, 3, 1, 4]\n",
      "[4, 1, 7, 2, 6, 9, 8, 3, 5]\n",
      "[9, 6, 3, 8, 4, 5, 1, 7, 2]\n",
      "[5, 8, 2, 1, 7, 3, 4, 6, 9]\n"
     ]
    }
   ],
   "source": [
    "import random\n",
    "\n",
    "def is_valid_move(grid, row, col, num):\n",
    "    # Check if 'num' is not already present in the row or column\n",
    "    for i in range(9):\n",
    "        if grid[row][i] == num or grid[i][col] == num:\n",
    "            return False\n",
    "    \n",
    "    # Check if 'num' is not already present in the 3x3 subgrid\n",
    "    start_row, start_col = 3 * (row // 3), 3 * (col // 3)\n",
    "    for i in range(3):\n",
    "        for j in range(3):\n",
    "            if grid[start_row + i][start_col + j] == num:\n",
    "                return False\n",
    "    \n",
    "    return True\n",
    "\n",
    "def solve_sudoku(grid):\n",
    "    for row in range(9):\n",
    "        for col in range(9):\n",
    "            if grid[row][col] == 0:\n",
    "                for num in random.sample(range(1, 10), 9):\n",
    "                    if is_valid_move(grid, row, col, num):\n",
    "                        grid[row][col] = num\n",
    "                        if solve_sudoku(grid):\n",
    "                            return True\n",
    "                        grid[row][col] = 0\n",
    "                return False\n",
    "    return True\n",
    "\n",
    "def generate_random_sudoku():\n",
    "    grid = [[0] * 9 for _ in range(9)]\n",
    "    solve_sudoku(grid)\n",
    "    return grid\n",
    "\n",
    "def remove_numbers(grid, num_to_remove):\n",
    "    # Create a list of all cell coordinates\n",
    "    cells = [(row, col) for row in range(9) for col in range(9)]\n",
    "    random.shuffle(cells)\n",
    "\n",
    "    # Remove 'num_to_remove' random numbers from the grid\n",
    "    for _ in range(num_to_remove):\n",
    "        row, col = cells.pop()\n",
    "        grid[row][col] = 0\n",
    "\n",
    "# Generate a random Sudoku puzzle\n",
    "random_sudoku = generate_random_sudoku()\n",
    "\n",
    "# Make a copy of the solution before removing numbers\n",
    "solution = [row[:] for row in random_sudoku]\n",
    "\n",
    "# Remove numbers from the puzzle\n",
    "num_to_remove = 32  # Adjust this number as needed\n",
    "remove_numbers(random_sudoku, num_to_remove)\n",
    "\n",
    "# Print the Sudoku puzzle with numbers removed\n",
    "for row in random_sudoku:\n",
    "    print(row)\n",
    "\n",
    "# Print the solution\n",
    "print(\"\\nSolution:\")\n",
    "for row in solution:\n",
    "    print(row)\n"
   ]
  }
 ],
 "metadata": {
  "kernelspec": {
   "display_name": "base",
   "language": "python",
   "name": "python3"
  },
  "language_info": {
   "codemirror_mode": {
    "name": "ipython",
    "version": 3
   },
   "file_extension": ".py",
   "mimetype": "text/x-python",
   "name": "python",
   "nbconvert_exporter": "python",
   "pygments_lexer": "ipython3",
   "version": "3.11.4"
  },
  "orig_nbformat": 4
 },
 "nbformat": 4,
 "nbformat_minor": 2
}
