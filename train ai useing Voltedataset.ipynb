{
  "cells": [
    {
      "cell_type": "code",
      "execution_count": 2,
      "metadata": {
        "id": "9Jl-enT_hakL"
      },
      "outputs": [],
      "source": [
        "import torch\n",
        "import numpy as np\n",
        "import pandas as pd"
      ]
    },
    {
      "cell_type": "code",
      "execution_count": 4,
      "metadata": {
        "id": "AVkR3lxBhakN",
        "outputId": "db1b8125-70fc-4528-e678-72a07253114e",
        "colab": {
          "base_uri": "https://localhost:8080/",
          "height": 363
        }
      },
      "outputs": [
        {
          "output_type": "error",
          "ename": "FileNotFoundError",
          "evalue": "ignored",
          "traceback": [
            "\u001b[0;31m---------------------------------------------------------------------------\u001b[0m",
            "\u001b[0;31mFileNotFoundError\u001b[0m                         Traceback (most recent call last)",
            "\u001b[0;32m<ipython-input-4-8afada80a074>\u001b[0m in \u001b[0;36m<cell line: 1>\u001b[0;34m()\u001b[0m\n\u001b[0;32m----> 1\u001b[0;31m \u001b[0mdf\u001b[0m \u001b[0;34m=\u001b[0m\u001b[0mpd\u001b[0m\u001b[0;34m.\u001b[0m\u001b[0mread_csv\u001b[0m\u001b[0;34m(\u001b[0m\u001b[0;34mr\"C:\\Users\\HoganL\\Desktop\\datasets\\LTE combined data.csv\"\u001b[0m\u001b[0;34m)\u001b[0m\u001b[0;34m\u001b[0m\u001b[0;34m\u001b[0m\u001b[0m\n\u001b[0m\u001b[1;32m      2\u001b[0m \u001b[0mdf\u001b[0m\u001b[0;34m.\u001b[0m\u001b[0mdrop\u001b[0m\u001b[0;34m(\u001b[0m\u001b[0mdf\u001b[0m\u001b[0;34m.\u001b[0m\u001b[0mcolumns\u001b[0m\u001b[0;34m[\u001b[0m\u001b[0;36m0\u001b[0m\u001b[0;34m]\u001b[0m\u001b[0;34m,\u001b[0m\u001b[0maxis\u001b[0m\u001b[0;34m=\u001b[0m\u001b[0;32mTrue\u001b[0m\u001b[0;34m,\u001b[0m\u001b[0minplace\u001b[0m\u001b[0;34m=\u001b[0m\u001b[0;32mTrue\u001b[0m\u001b[0;34m)\u001b[0m\u001b[0;34m\u001b[0m\u001b[0;34m\u001b[0m\u001b[0m\n",
            "\u001b[0;32m/usr/local/lib/python3.10/dist-packages/pandas/util/_decorators.py\u001b[0m in \u001b[0;36mwrapper\u001b[0;34m(*args, **kwargs)\u001b[0m\n\u001b[1;32m    209\u001b[0m                 \u001b[0;32melse\u001b[0m\u001b[0;34m:\u001b[0m\u001b[0;34m\u001b[0m\u001b[0;34m\u001b[0m\u001b[0m\n\u001b[1;32m    210\u001b[0m                     \u001b[0mkwargs\u001b[0m\u001b[0;34m[\u001b[0m\u001b[0mnew_arg_name\u001b[0m\u001b[0;34m]\u001b[0m \u001b[0;34m=\u001b[0m \u001b[0mnew_arg_value\u001b[0m\u001b[0;34m\u001b[0m\u001b[0;34m\u001b[0m\u001b[0m\n\u001b[0;32m--> 211\u001b[0;31m             \u001b[0;32mreturn\u001b[0m \u001b[0mfunc\u001b[0m\u001b[0;34m(\u001b[0m\u001b[0;34m*\u001b[0m\u001b[0margs\u001b[0m\u001b[0;34m,\u001b[0m \u001b[0;34m**\u001b[0m\u001b[0mkwargs\u001b[0m\u001b[0;34m)\u001b[0m\u001b[0;34m\u001b[0m\u001b[0;34m\u001b[0m\u001b[0m\n\u001b[0m\u001b[1;32m    212\u001b[0m \u001b[0;34m\u001b[0m\u001b[0m\n\u001b[1;32m    213\u001b[0m         \u001b[0;32mreturn\u001b[0m \u001b[0mcast\u001b[0m\u001b[0;34m(\u001b[0m\u001b[0mF\u001b[0m\u001b[0;34m,\u001b[0m \u001b[0mwrapper\u001b[0m\u001b[0;34m)\u001b[0m\u001b[0;34m\u001b[0m\u001b[0;34m\u001b[0m\u001b[0m\n",
            "\u001b[0;32m/usr/local/lib/python3.10/dist-packages/pandas/util/_decorators.py\u001b[0m in \u001b[0;36mwrapper\u001b[0;34m(*args, **kwargs)\u001b[0m\n\u001b[1;32m    329\u001b[0m                     \u001b[0mstacklevel\u001b[0m\u001b[0;34m=\u001b[0m\u001b[0mfind_stack_level\u001b[0m\u001b[0;34m(\u001b[0m\u001b[0;34m)\u001b[0m\u001b[0;34m,\u001b[0m\u001b[0;34m\u001b[0m\u001b[0;34m\u001b[0m\u001b[0m\n\u001b[1;32m    330\u001b[0m                 )\n\u001b[0;32m--> 331\u001b[0;31m             \u001b[0;32mreturn\u001b[0m \u001b[0mfunc\u001b[0m\u001b[0;34m(\u001b[0m\u001b[0;34m*\u001b[0m\u001b[0margs\u001b[0m\u001b[0;34m,\u001b[0m \u001b[0;34m**\u001b[0m\u001b[0mkwargs\u001b[0m\u001b[0;34m)\u001b[0m\u001b[0;34m\u001b[0m\u001b[0;34m\u001b[0m\u001b[0m\n\u001b[0m\u001b[1;32m    332\u001b[0m \u001b[0;34m\u001b[0m\u001b[0m\n\u001b[1;32m    333\u001b[0m         \u001b[0;31m# error: \"Callable[[VarArg(Any), KwArg(Any)], Any]\" has no\u001b[0m\u001b[0;34m\u001b[0m\u001b[0;34m\u001b[0m\u001b[0m\n",
            "\u001b[0;32m/usr/local/lib/python3.10/dist-packages/pandas/io/parsers/readers.py\u001b[0m in \u001b[0;36mread_csv\u001b[0;34m(filepath_or_buffer, sep, delimiter, header, names, index_col, usecols, squeeze, prefix, mangle_dupe_cols, dtype, engine, converters, true_values, false_values, skipinitialspace, skiprows, skipfooter, nrows, na_values, keep_default_na, na_filter, verbose, skip_blank_lines, parse_dates, infer_datetime_format, keep_date_col, date_parser, dayfirst, cache_dates, iterator, chunksize, compression, thousands, decimal, lineterminator, quotechar, quoting, doublequote, escapechar, comment, encoding, encoding_errors, dialect, error_bad_lines, warn_bad_lines, on_bad_lines, delim_whitespace, low_memory, memory_map, float_precision, storage_options)\u001b[0m\n\u001b[1;32m    948\u001b[0m     \u001b[0mkwds\u001b[0m\u001b[0;34m.\u001b[0m\u001b[0mupdate\u001b[0m\u001b[0;34m(\u001b[0m\u001b[0mkwds_defaults\u001b[0m\u001b[0;34m)\u001b[0m\u001b[0;34m\u001b[0m\u001b[0;34m\u001b[0m\u001b[0m\n\u001b[1;32m    949\u001b[0m \u001b[0;34m\u001b[0m\u001b[0m\n\u001b[0;32m--> 950\u001b[0;31m     \u001b[0;32mreturn\u001b[0m \u001b[0m_read\u001b[0m\u001b[0;34m(\u001b[0m\u001b[0mfilepath_or_buffer\u001b[0m\u001b[0;34m,\u001b[0m \u001b[0mkwds\u001b[0m\u001b[0;34m)\u001b[0m\u001b[0;34m\u001b[0m\u001b[0;34m\u001b[0m\u001b[0m\n\u001b[0m\u001b[1;32m    951\u001b[0m \u001b[0;34m\u001b[0m\u001b[0m\n\u001b[1;32m    952\u001b[0m \u001b[0;34m\u001b[0m\u001b[0m\n",
            "\u001b[0;32m/usr/local/lib/python3.10/dist-packages/pandas/io/parsers/readers.py\u001b[0m in \u001b[0;36m_read\u001b[0;34m(filepath_or_buffer, kwds)\u001b[0m\n\u001b[1;32m    603\u001b[0m \u001b[0;34m\u001b[0m\u001b[0m\n\u001b[1;32m    604\u001b[0m     \u001b[0;31m# Create the parser.\u001b[0m\u001b[0;34m\u001b[0m\u001b[0;34m\u001b[0m\u001b[0m\n\u001b[0;32m--> 605\u001b[0;31m     \u001b[0mparser\u001b[0m \u001b[0;34m=\u001b[0m \u001b[0mTextFileReader\u001b[0m\u001b[0;34m(\u001b[0m\u001b[0mfilepath_or_buffer\u001b[0m\u001b[0;34m,\u001b[0m \u001b[0;34m**\u001b[0m\u001b[0mkwds\u001b[0m\u001b[0;34m)\u001b[0m\u001b[0;34m\u001b[0m\u001b[0;34m\u001b[0m\u001b[0m\n\u001b[0m\u001b[1;32m    606\u001b[0m \u001b[0;34m\u001b[0m\u001b[0m\n\u001b[1;32m    607\u001b[0m     \u001b[0;32mif\u001b[0m \u001b[0mchunksize\u001b[0m \u001b[0;32mor\u001b[0m \u001b[0miterator\u001b[0m\u001b[0;34m:\u001b[0m\u001b[0;34m\u001b[0m\u001b[0;34m\u001b[0m\u001b[0m\n",
            "\u001b[0;32m/usr/local/lib/python3.10/dist-packages/pandas/io/parsers/readers.py\u001b[0m in \u001b[0;36m__init__\u001b[0;34m(self, f, engine, **kwds)\u001b[0m\n\u001b[1;32m   1440\u001b[0m \u001b[0;34m\u001b[0m\u001b[0m\n\u001b[1;32m   1441\u001b[0m         \u001b[0mself\u001b[0m\u001b[0;34m.\u001b[0m\u001b[0mhandles\u001b[0m\u001b[0;34m:\u001b[0m \u001b[0mIOHandles\u001b[0m \u001b[0;34m|\u001b[0m \u001b[0;32mNone\u001b[0m \u001b[0;34m=\u001b[0m \u001b[0;32mNone\u001b[0m\u001b[0;34m\u001b[0m\u001b[0;34m\u001b[0m\u001b[0m\n\u001b[0;32m-> 1442\u001b[0;31m         \u001b[0mself\u001b[0m\u001b[0;34m.\u001b[0m\u001b[0m_engine\u001b[0m \u001b[0;34m=\u001b[0m \u001b[0mself\u001b[0m\u001b[0;34m.\u001b[0m\u001b[0m_make_engine\u001b[0m\u001b[0;34m(\u001b[0m\u001b[0mf\u001b[0m\u001b[0;34m,\u001b[0m \u001b[0mself\u001b[0m\u001b[0;34m.\u001b[0m\u001b[0mengine\u001b[0m\u001b[0;34m)\u001b[0m\u001b[0;34m\u001b[0m\u001b[0;34m\u001b[0m\u001b[0m\n\u001b[0m\u001b[1;32m   1443\u001b[0m \u001b[0;34m\u001b[0m\u001b[0m\n\u001b[1;32m   1444\u001b[0m     \u001b[0;32mdef\u001b[0m \u001b[0mclose\u001b[0m\u001b[0;34m(\u001b[0m\u001b[0mself\u001b[0m\u001b[0;34m)\u001b[0m \u001b[0;34m->\u001b[0m \u001b[0;32mNone\u001b[0m\u001b[0;34m:\u001b[0m\u001b[0;34m\u001b[0m\u001b[0;34m\u001b[0m\u001b[0m\n",
            "\u001b[0;32m/usr/local/lib/python3.10/dist-packages/pandas/io/parsers/readers.py\u001b[0m in \u001b[0;36m_make_engine\u001b[0;34m(self, f, engine)\u001b[0m\n\u001b[1;32m   1733\u001b[0m                 \u001b[0;32mif\u001b[0m \u001b[0;34m\"b\"\u001b[0m \u001b[0;32mnot\u001b[0m \u001b[0;32min\u001b[0m \u001b[0mmode\u001b[0m\u001b[0;34m:\u001b[0m\u001b[0;34m\u001b[0m\u001b[0;34m\u001b[0m\u001b[0m\n\u001b[1;32m   1734\u001b[0m                     \u001b[0mmode\u001b[0m \u001b[0;34m+=\u001b[0m \u001b[0;34m\"b\"\u001b[0m\u001b[0;34m\u001b[0m\u001b[0;34m\u001b[0m\u001b[0m\n\u001b[0;32m-> 1735\u001b[0;31m             self.handles = get_handle(\n\u001b[0m\u001b[1;32m   1736\u001b[0m                 \u001b[0mf\u001b[0m\u001b[0;34m,\u001b[0m\u001b[0;34m\u001b[0m\u001b[0;34m\u001b[0m\u001b[0m\n\u001b[1;32m   1737\u001b[0m                 \u001b[0mmode\u001b[0m\u001b[0;34m,\u001b[0m\u001b[0;34m\u001b[0m\u001b[0;34m\u001b[0m\u001b[0m\n",
            "\u001b[0;32m/usr/local/lib/python3.10/dist-packages/pandas/io/common.py\u001b[0m in \u001b[0;36mget_handle\u001b[0;34m(path_or_buf, mode, encoding, compression, memory_map, is_text, errors, storage_options)\u001b[0m\n\u001b[1;32m    854\u001b[0m         \u001b[0;32mif\u001b[0m \u001b[0mioargs\u001b[0m\u001b[0;34m.\u001b[0m\u001b[0mencoding\u001b[0m \u001b[0;32mand\u001b[0m \u001b[0;34m\"b\"\u001b[0m \u001b[0;32mnot\u001b[0m \u001b[0;32min\u001b[0m \u001b[0mioargs\u001b[0m\u001b[0;34m.\u001b[0m\u001b[0mmode\u001b[0m\u001b[0;34m:\u001b[0m\u001b[0;34m\u001b[0m\u001b[0;34m\u001b[0m\u001b[0m\n\u001b[1;32m    855\u001b[0m             \u001b[0;31m# Encoding\u001b[0m\u001b[0;34m\u001b[0m\u001b[0;34m\u001b[0m\u001b[0m\n\u001b[0;32m--> 856\u001b[0;31m             handle = open(\n\u001b[0m\u001b[1;32m    857\u001b[0m                 \u001b[0mhandle\u001b[0m\u001b[0;34m,\u001b[0m\u001b[0;34m\u001b[0m\u001b[0;34m\u001b[0m\u001b[0m\n\u001b[1;32m    858\u001b[0m                 \u001b[0mioargs\u001b[0m\u001b[0;34m.\u001b[0m\u001b[0mmode\u001b[0m\u001b[0;34m,\u001b[0m\u001b[0;34m\u001b[0m\u001b[0;34m\u001b[0m\u001b[0m\n",
            "\u001b[0;31mFileNotFoundError\u001b[0m: [Errno 2] No such file or directory: 'C:\\\\Users\\\\HoganL\\\\Desktop\\\\datasets\\\\LTE combined data.csv'"
          ]
        }
      ],
      "source": [
        "df =pd.read_csv(r\"C:\\Users\\HoganL\\Desktop\\datasets\\LTE combined data.csv\")\n",
        "df.drop(df.columns[0],axis=True,inplace=True)"
      ]
    },
    {
      "cell_type": "code",
      "execution_count": null,
      "metadata": {
        "id": "ww9VTXPohakN",
        "outputId": "e6f75f24-6a3d-429e-ee79-c3abf0808d51"
      },
      "outputs": [
        {
          "data": {
            "text/html": [
              "<div>\n",
              "<style scoped>\n",
              "    .dataframe tbody tr th:only-of-type {\n",
              "        vertical-align: middle;\n",
              "    }\n",
              "\n",
              "    .dataframe tbody tr th {\n",
              "        vertical-align: top;\n",
              "    }\n",
              "\n",
              "    .dataframe thead th {\n",
              "        text-align: right;\n",
              "    }\n",
              "</style>\n",
              "<table border=\"1\" class=\"dataframe\">\n",
              "  <thead>\n",
              "    <tr style=\"text-align: right;\">\n",
              "      <th></th>\n",
              "      <th>Timestamp</th>\n",
              "      <th>Longitude</th>\n",
              "      <th>Latitude</th>\n",
              "      <th>Speed</th>\n",
              "      <th>Operatorname</th>\n",
              "      <th>CellID</th>\n",
              "      <th>NetworkMode</th>\n",
              "      <th>RSRP</th>\n",
              "      <th>RSRQ</th>\n",
              "      <th>SNR</th>\n",
              "      <th>...</th>\n",
              "      <th>RSSI</th>\n",
              "      <th>DL_bitrate</th>\n",
              "      <th>UL_bitrate</th>\n",
              "      <th>State</th>\n",
              "      <th>NRxRSRP</th>\n",
              "      <th>NRxRSRQ</th>\n",
              "      <th>ServingCell_Lon</th>\n",
              "      <th>ServingCell_Lat</th>\n",
              "      <th>ServingCell_Distance</th>\n",
              "      <th>path</th>\n",
              "    </tr>\n",
              "  </thead>\n",
              "  <tbody>\n",
              "    <tr>\n",
              "      <th>0</th>\n",
              "      <td>2018.01.25_19.50.43</td>\n",
              "      <td>-8.466939</td>\n",
              "      <td>51.897914</td>\n",
              "      <td>46</td>\n",
              "      <td>B</td>\n",
              "      <td>2</td>\n",
              "      <td>LTE</td>\n",
              "      <td>-99</td>\n",
              "      <td>-14</td>\n",
              "      <td>-2.0</td>\n",
              "      <td>...</td>\n",
              "      <td>-82</td>\n",
              "      <td>1688</td>\n",
              "      <td>31</td>\n",
              "      <td>D</td>\n",
              "      <td>-100.0</td>\n",
              "      <td>-17.0</td>\n",
              "      <td>-8.464806</td>\n",
              "      <td>51.891945</td>\n",
              "      <td>679.66999999999996</td>\n",
              "      <td>bus</td>\n",
              "    </tr>\n",
              "    <tr>\n",
              "      <th>1</th>\n",
              "      <td>2018.01.25_19.50.44</td>\n",
              "      <td>-8.466616</td>\n",
              "      <td>51.897283</td>\n",
              "      <td>30</td>\n",
              "      <td>B</td>\n",
              "      <td>2</td>\n",
              "      <td>LTE</td>\n",
              "      <td>-99</td>\n",
              "      <td>-14</td>\n",
              "      <td>-1.0</td>\n",
              "      <td>...</td>\n",
              "      <td>-78</td>\n",
              "      <td>1688</td>\n",
              "      <td>31</td>\n",
              "      <td>D</td>\n",
              "      <td>-100.0</td>\n",
              "      <td>-17.0</td>\n",
              "      <td>-8.464806</td>\n",
              "      <td>51.891945</td>\n",
              "      <td>606.40999999999997</td>\n",
              "      <td>bus</td>\n",
              "    </tr>\n",
              "    <tr>\n",
              "      <th>2</th>\n",
              "      <td>2018.01.25_19.50.44</td>\n",
              "      <td>-8.466616</td>\n",
              "      <td>51.897283</td>\n",
              "      <td>30</td>\n",
              "      <td>B</td>\n",
              "      <td>2</td>\n",
              "      <td>LTE</td>\n",
              "      <td>-99</td>\n",
              "      <td>-14</td>\n",
              "      <td>-2.0</td>\n",
              "      <td>...</td>\n",
              "      <td>-78</td>\n",
              "      <td>1498</td>\n",
              "      <td>27</td>\n",
              "      <td>D</td>\n",
              "      <td>-100.0</td>\n",
              "      <td>-17.0</td>\n",
              "      <td>-8.464806</td>\n",
              "      <td>51.891945</td>\n",
              "      <td>606.40999999999997</td>\n",
              "      <td>bus</td>\n",
              "    </tr>\n",
              "    <tr>\n",
              "      <th>3</th>\n",
              "      <td>2018.01.25_19.50.46</td>\n",
              "      <td>-8.466616</td>\n",
              "      <td>51.897283</td>\n",
              "      <td>30</td>\n",
              "      <td>B</td>\n",
              "      <td>2</td>\n",
              "      <td>LTE</td>\n",
              "      <td>-98</td>\n",
              "      <td>-15</td>\n",
              "      <td>-1.0</td>\n",
              "      <td>...</td>\n",
              "      <td>-81</td>\n",
              "      <td>1286</td>\n",
              "      <td>24</td>\n",
              "      <td>D</td>\n",
              "      <td>-103.0</td>\n",
              "      <td>-18.0</td>\n",
              "      <td>-8.464806</td>\n",
              "      <td>51.891945</td>\n",
              "      <td>606.40999999999997</td>\n",
              "      <td>bus</td>\n",
              "    </tr>\n",
              "    <tr>\n",
              "      <th>4</th>\n",
              "      <td>2018.01.25_19.50.47</td>\n",
              "      <td>-8.466616</td>\n",
              "      <td>51.897283</td>\n",
              "      <td>30</td>\n",
              "      <td>B</td>\n",
              "      <td>2</td>\n",
              "      <td>LTE</td>\n",
              "      <td>-98</td>\n",
              "      <td>-15</td>\n",
              "      <td>-1.0</td>\n",
              "      <td>...</td>\n",
              "      <td>-91</td>\n",
              "      <td>548</td>\n",
              "      <td>20</td>\n",
              "      <td>D</td>\n",
              "      <td>-103.0</td>\n",
              "      <td>-18.0</td>\n",
              "      <td>-8.464806</td>\n",
              "      <td>51.891945</td>\n",
              "      <td>606.40999999999997</td>\n",
              "      <td>bus</td>\n",
              "    </tr>\n",
              "  </tbody>\n",
              "</table>\n",
              "<p>5 rows × 21 columns</p>\n",
              "</div>"
            ],
            "text/plain": [
              "             Timestamp  Longitude   Latitude  Speed Operatorname  CellID  \\\n",
              "0  2018.01.25_19.50.43  -8.466939  51.897914     46            B       2   \n",
              "1  2018.01.25_19.50.44  -8.466616  51.897283     30            B       2   \n",
              "2  2018.01.25_19.50.44  -8.466616  51.897283     30            B       2   \n",
              "3  2018.01.25_19.50.46  -8.466616  51.897283     30            B       2   \n",
              "4  2018.01.25_19.50.47  -8.466616  51.897283     30            B       2   \n",
              "\n",
              "  NetworkMode  RSRP RSRQ   SNR ...  RSSI DL_bitrate  UL_bitrate  State  \\\n",
              "0         LTE   -99  -14  -2.0 ...   -82       1688          31      D   \n",
              "1         LTE   -99  -14  -1.0 ...   -78       1688          31      D   \n",
              "2         LTE   -99  -14  -2.0 ...   -78       1498          27      D   \n",
              "3         LTE   -98  -15  -1.0 ...   -81       1286          24      D   \n",
              "4         LTE   -98  -15  -1.0 ...   -91        548          20      D   \n",
              "\n",
              "  NRxRSRP NRxRSRQ ServingCell_Lon ServingCell_Lat ServingCell_Distance path  \n",
              "0  -100.0   -17.0       -8.464806       51.891945   679.66999999999996  bus  \n",
              "1  -100.0   -17.0       -8.464806       51.891945   606.40999999999997  bus  \n",
              "2  -100.0   -17.0       -8.464806       51.891945   606.40999999999997  bus  \n",
              "3  -103.0   -18.0       -8.464806       51.891945   606.40999999999997  bus  \n",
              "4  -103.0   -18.0       -8.464806       51.891945   606.40999999999997  bus  \n",
              "\n",
              "[5 rows x 21 columns]"
            ]
          },
          "execution_count": 112,
          "metadata": {},
          "output_type": "execute_result"
        }
      ],
      "source": [
        "df.head()"
      ]
    },
    {
      "cell_type": "code",
      "execution_count": null,
      "metadata": {
        "id": "30BeEqkhhakN",
        "outputId": "5dc96f5c-6015-4d1b-f685-b71ac0d9e553"
      },
      "outputs": [
        {
          "data": {
            "text/plain": [
              "Timestamp               0\n",
              "Longitude               0\n",
              "Latitude                0\n",
              "Speed                   0\n",
              "Operatorname            0\n",
              "CellID                  0\n",
              "NetworkMode             0\n",
              "RSRP                    0\n",
              "RSRQ                    0\n",
              "SNR                     0\n",
              "CQI                     0\n",
              "RSSI                    0\n",
              "DL_bitrate              0\n",
              "UL_bitrate              0\n",
              "State                   0\n",
              "NRxRSRP                 0\n",
              "NRxRSRQ                 0\n",
              "ServingCell_Lon         0\n",
              "ServingCell_Lat         0\n",
              "ServingCell_Distance    0\n",
              "path                    0\n",
              "dtype: int64"
            ]
          },
          "execution_count": 113,
          "metadata": {},
          "output_type": "execute_result"
        }
      ],
      "source": [
        "df.isnull().sum()"
      ]
    },
    {
      "cell_type": "markdown",
      "metadata": {
        "id": "JqgdkohihakO"
      },
      "source": [
        "change all the  categorial data to  number"
      ]
    },
    {
      "cell_type": "markdown",
      "metadata": {
        "id": "EZV4bS2whakP"
      },
      "source": [
        "summary of all numical data"
      ]
    },
    {
      "cell_type": "code",
      "execution_count": null,
      "metadata": {
        "id": "MgZI0xcshakP",
        "outputId": "dd675132-92a0-4719-ffee-052c830c399d"
      },
      "outputs": [
        {
          "data": {
            "text/html": [
              "<div>\n",
              "<style scoped>\n",
              "    .dataframe tbody tr th:only-of-type {\n",
              "        vertical-align: middle;\n",
              "    }\n",
              "\n",
              "    .dataframe tbody tr th {\n",
              "        vertical-align: top;\n",
              "    }\n",
              "\n",
              "    .dataframe thead th {\n",
              "        text-align: right;\n",
              "    }\n",
              "</style>\n",
              "<table border=\"1\" class=\"dataframe\">\n",
              "  <thead>\n",
              "    <tr style=\"text-align: right;\">\n",
              "      <th></th>\n",
              "      <th>Longitude</th>\n",
              "      <th>Latitude</th>\n",
              "      <th>Speed</th>\n",
              "      <th>CellID</th>\n",
              "      <th>RSRP</th>\n",
              "      <th>DL_bitrate</th>\n",
              "      <th>UL_bitrate</th>\n",
              "    </tr>\n",
              "  </thead>\n",
              "  <tbody>\n",
              "    <tr>\n",
              "      <th>count</th>\n",
              "      <td>174523.000000</td>\n",
              "      <td>174523.000000</td>\n",
              "      <td>174523.000000</td>\n",
              "      <td>174523.000000</td>\n",
              "      <td>174523.000000</td>\n",
              "      <td>174523.000000</td>\n",
              "      <td>174523.000000</td>\n",
              "    </tr>\n",
              "    <tr>\n",
              "      <th>mean</th>\n",
              "      <td>-8.441232</td>\n",
              "      <td>52.017980</td>\n",
              "      <td>30.530429</td>\n",
              "      <td>4563.573741</td>\n",
              "      <td>-91.517542</td>\n",
              "      <td>10822.324427</td>\n",
              "      <td>184.749529</td>\n",
              "    </tr>\n",
              "    <tr>\n",
              "      <th>std</th>\n",
              "      <td>0.419659</td>\n",
              "      <td>0.306211</td>\n",
              "      <td>38.297034</td>\n",
              "      <td>12035.047726</td>\n",
              "      <td>16.342720</td>\n",
              "      <td>14149.653859</td>\n",
              "      <td>220.538218</td>\n",
              "    </tr>\n",
              "    <tr>\n",
              "      <th>min</th>\n",
              "      <td>-9.589915</td>\n",
              "      <td>51.871394</td>\n",
              "      <td>0.000000</td>\n",
              "      <td>0.000000</td>\n",
              "      <td>-200.000000</td>\n",
              "      <td>0.000000</td>\n",
              "      <td>0.000000</td>\n",
              "    </tr>\n",
              "    <tr>\n",
              "      <th>25%</th>\n",
              "      <td>-8.505997</td>\n",
              "      <td>51.893450</td>\n",
              "      <td>0.000000</td>\n",
              "      <td>2.000000</td>\n",
              "      <td>-102.000000</td>\n",
              "      <td>1386.000000</td>\n",
              "      <td>32.000000</td>\n",
              "    </tr>\n",
              "    <tr>\n",
              "      <th>50%</th>\n",
              "      <td>-8.488805</td>\n",
              "      <td>51.899414</td>\n",
              "      <td>17.000000</td>\n",
              "      <td>2.000000</td>\n",
              "      <td>-93.000000</td>\n",
              "      <td>5370.000000</td>\n",
              "      <td>107.000000</td>\n",
              "    </tr>\n",
              "    <tr>\n",
              "      <th>75%</th>\n",
              "      <td>-8.459378</td>\n",
              "      <td>51.935595</td>\n",
              "      <td>46.000000</td>\n",
              "      <td>8.000000</td>\n",
              "      <td>-82.000000</td>\n",
              "      <td>14796.000000</td>\n",
              "      <td>266.000000</td>\n",
              "    </tr>\n",
              "    <tr>\n",
              "      <th>max</th>\n",
              "      <td>-6.295653</td>\n",
              "      <td>53.346380</td>\n",
              "      <td>166.000000</td>\n",
              "      <td>65353.000000</td>\n",
              "      <td>-27.000000</td>\n",
              "      <td>173016.000000</td>\n",
              "      <td>4178.000000</td>\n",
              "    </tr>\n",
              "  </tbody>\n",
              "</table>\n",
              "</div>"
            ],
            "text/plain": [
              "           Longitude       Latitude          Speed         CellID  \\\n",
              "count  174523.000000  174523.000000  174523.000000  174523.000000   \n",
              "mean       -8.441232      52.017980      30.530429    4563.573741   \n",
              "std         0.419659       0.306211      38.297034   12035.047726   \n",
              "min        -9.589915      51.871394       0.000000       0.000000   \n",
              "25%        -8.505997      51.893450       0.000000       2.000000   \n",
              "50%        -8.488805      51.899414      17.000000       2.000000   \n",
              "75%        -8.459378      51.935595      46.000000       8.000000   \n",
              "max        -6.295653      53.346380     166.000000   65353.000000   \n",
              "\n",
              "                RSRP     DL_bitrate     UL_bitrate  \n",
              "count  174523.000000  174523.000000  174523.000000  \n",
              "mean      -91.517542   10822.324427     184.749529  \n",
              "std        16.342720   14149.653859     220.538218  \n",
              "min      -200.000000       0.000000       0.000000  \n",
              "25%      -102.000000    1386.000000      32.000000  \n",
              "50%       -93.000000    5370.000000     107.000000  \n",
              "75%       -82.000000   14796.000000     266.000000  \n",
              "max       -27.000000  173016.000000    4178.000000  "
            ]
          },
          "execution_count": 114,
          "metadata": {},
          "output_type": "execute_result"
        }
      ],
      "source": [
        "df.describe(include=(np.number))"
      ]
    },
    {
      "cell_type": "code",
      "execution_count": null,
      "metadata": {
        "id": "bpzd7Z-KhakP",
        "outputId": "f3431cc4-7892-423b-cf3d-4a46bb0f0f13"
      },
      "outputs": [
        {
          "data": {
            "image/png": "[encoded data removed]",
            "text/plain": [
              "<Figure size 432x288 with 1 Axes>"
            ]
          },
          "metadata": {},
          "output_type": "display_data"
        }
      ],
      "source": [
        "df.Speed.hist();"
      ]
    },
    {
      "cell_type": "code",
      "execution_count": null,
      "metadata": {
        "id": "fk4jjJd8hakP",
        "outputId": "eb654c47-f05b-433e-d3cb-07d5132d9c09"
      },
      "outputs": [
        {
          "data": {
            "image/png": "[encoded data removed]",
            "text/plain": [
              "<Figure size 432x288 with 1 Axes>"
            ]
          },
          "metadata": {},
          "output_type": "display_data"
        }
      ],
      "source": [
        "df.RSRP.hist();"
      ]
    },
    {
      "cell_type": "markdown",
      "metadata": {
        "id": "J_7iuNVChakQ"
      },
      "source": [
        "quick summary of all the non-numeric columns in the datase"
      ]
    },
    {
      "cell_type": "code",
      "execution_count": null,
      "metadata": {
        "id": "ELhOX2i0hakQ",
        "outputId": "e19c54fb-0481-4c4f-f8b4-8e774dec4489"
      },
      "outputs": [
        {
          "data": {
            "text/html": [
              "<div>\n",
              "<style scoped>\n",
              "    .dataframe tbody tr th:only-of-type {\n",
              "        vertical-align: middle;\n",
              "    }\n",
              "\n",
              "    .dataframe tbody tr th {\n",
              "        vertical-align: top;\n",
              "    }\n",
              "\n",
              "    .dataframe thead th {\n",
              "        text-align: right;\n",
              "    }\n",
              "</style>\n",
              "<table border=\"1\" class=\"dataframe\">\n",
              "  <thead>\n",
              "    <tr style=\"text-align: right;\">\n",
              "      <th></th>\n",
              "      <th>Timestamp</th>\n",
              "      <th>Operatorname</th>\n",
              "      <th>NetworkMode</th>\n",
              "      <th>RSRQ</th>\n",
              "      <th>SNR</th>\n",
              "      <th>CQI</th>\n",
              "      <th>RSSI</th>\n",
              "      <th>State</th>\n",
              "      <th>NRxRSRP</th>\n",
              "      <th>NRxRSRQ</th>\n",
              "      <th>ServingCell_Lon</th>\n",
              "      <th>ServingCell_Lat</th>\n",
              "      <th>ServingCell_Distance</th>\n",
              "      <th>path</th>\n",
              "    </tr>\n",
              "  </thead>\n",
              "  <tbody>\n",
              "    <tr>\n",
              "      <th>count</th>\n",
              "      <td>174523</td>\n",
              "      <td>174523</td>\n",
              "      <td>174523</td>\n",
              "      <td>174523</td>\n",
              "      <td>174523</td>\n",
              "      <td>174523</td>\n",
              "      <td>174523</td>\n",
              "      <td>174523</td>\n",
              "      <td>174523</td>\n",
              "      <td>174523</td>\n",
              "      <td>174523</td>\n",
              "      <td>174523</td>\n",
              "      <td>174523</td>\n",
              "      <td>174523</td>\n",
              "    </tr>\n",
              "    <tr>\n",
              "      <th>unique</th>\n",
              "      <td>142130</td>\n",
              "      <td>7</td>\n",
              "      <td>7</td>\n",
              "      <td>52</td>\n",
              "      <td>105</td>\n",
              "      <td>16</td>\n",
              "      <td>60</td>\n",
              "      <td>2</td>\n",
              "      <td>146</td>\n",
              "      <td>54</td>\n",
              "      <td>636</td>\n",
              "      <td>624</td>\n",
              "      <td>5382</td>\n",
              "      <td>5</td>\n",
              "    </tr>\n",
              "    <tr>\n",
              "      <th>top</th>\n",
              "      <td>2018.02.02_10.28.45</td>\n",
              "      <td>A</td>\n",
              "      <td>LTE</td>\n",
              "      <td>-2</td>\n",
              "      <td>-</td>\n",
              "      <td>-</td>\n",
              "      <td>-</td>\n",
              "      <td>D</td>\n",
              "      <td>-</td>\n",
              "      <td>-</td>\n",
              "      <td>-</td>\n",
              "      <td>-</td>\n",
              "      <td>-</td>\n",
              "      <td>car</td>\n",
              "    </tr>\n",
              "    <tr>\n",
              "      <th>freq</th>\n",
              "      <td>6</td>\n",
              "      <td>139813</td>\n",
              "      <td>120824</td>\n",
              "      <td>50693</td>\n",
              "      <td>53722</td>\n",
              "      <td>53719</td>\n",
              "      <td>65063</td>\n",
              "      <td>160336</td>\n",
              "      <td>54657</td>\n",
              "      <td>55874</td>\n",
              "      <td>50582</td>\n",
              "      <td>50582</td>\n",
              "      <td>50582</td>\n",
              "      <td>75874</td>\n",
              "    </tr>\n",
              "  </tbody>\n",
              "</table>\n",
              "</div>"
            ],
            "text/plain": [
              "                  Timestamp Operatorname NetworkMode    RSRQ     SNR     CQI  \\\n",
              "count                174523       174523      174523  174523  174523  174523   \n",
              "unique               142130            7           7      52     105      16   \n",
              "top     2018.02.02_10.28.45            A         LTE      -2       -       -   \n",
              "freq                      6       139813      120824   50693   53722   53719   \n",
              "\n",
              "          RSSI   State NRxRSRP NRxRSRQ ServingCell_Lon ServingCell_Lat  \\\n",
              "count   174523  174523  174523  174523          174523          174523   \n",
              "unique      60       2     146      54             636             624   \n",
              "top          -       D       -       -               -               -   \n",
              "freq     65063  160336   54657   55874           50582           50582   \n",
              "\n",
              "       ServingCell_Distance    path  \n",
              "count                174523  174523  \n",
              "unique                 5382       5  \n",
              "top                       -     car  \n",
              "freq                  50582   75874  "
            ]
          },
          "execution_count": 117,
          "metadata": {},
          "output_type": "execute_result"
        }
      ],
      "source": [
        "df.describe(include=[object])"
      ]
    },
    {
      "cell_type": "markdown",
      "metadata": {
        "id": "hnjDpuEhhakQ"
      },
      "source": [
        "# found missing data in dataset"
      ]
    },
    {
      "cell_type": "code",
      "execution_count": null,
      "metadata": {
        "id": "BMTghdRGhakQ"
      },
      "outputs": [],
      "source": [
        "df.replace('-',df.replace(['-'],[None]),inplace=True)\n"
      ]
    },
    {
      "cell_type": "code",
      "execution_count": null,
      "metadata": {
        "id": "9cnLhgWFhakQ",
        "outputId": "f1b7e4be-12a9-40b3-fea8-85bc007dcfd6"
      },
      "outputs": [
        {
          "data": {
            "text/plain": [
              "Timestamp                   0\n",
              "Longitude                   0\n",
              "Latitude                    0\n",
              "Speed                       0\n",
              "Operatorname                0\n",
              "CellID                      0\n",
              "NetworkMode                 0\n",
              "RSRP                        0\n",
              "RSRQ                     1236\n",
              "SNR                     53722\n",
              "CQI                     53719\n",
              "RSSI                    65063\n",
              "DL_bitrate                  0\n",
              "UL_bitrate                  0\n",
              "State                       0\n",
              "NRxRSRP                 54657\n",
              "NRxRSRQ                 55874\n",
              "ServingCell_Lon         50582\n",
              "ServingCell_Lat         50582\n",
              "ServingCell_Distance    50582\n",
              "path                        0\n",
              "dtype: int64"
            ]
          },
          "execution_count": 119,
          "metadata": {},
          "output_type": "execute_result"
        }
      ],
      "source": [
        "df.isnull().sum()"
      ]
    },
    {
      "cell_type": "code",
      "execution_count": null,
      "metadata": {
        "id": "qf0pQcahhakQ",
        "outputId": "d2d4ae55-a75b-4a09-ac92-73a9317de591"
      },
      "outputs": [
        {
          "data": {
            "text/plain": [
              "Timestamp               2018.02.02_10.28.45\n",
              "Longitude                          -8.51937\n",
              "Latitude                             51.874\n",
              "Speed                                     0\n",
              "Operatorname                              A\n",
              "CellID                                    2\n",
              "NetworkMode                             LTE\n",
              "RSRP                                    -93\n",
              "RSRQ                                     -2\n",
              "SNR                                     5.0\n",
              "CQI                                       6\n",
              "RSSI                                    -94\n",
              "DL_bitrate                                0\n",
              "UL_bitrate                                0\n",
              "State                                     D\n",
              "NRxRSRP                                 -51\n",
              "NRxRSRQ                                 -24\n",
              "ServingCell_Lon                   -8.491719\n",
              "ServingCell_Lat                   51.893905\n",
              "ServingCell_Distance                 650.55\n",
              "path                                    car\n",
              "Name: 0, dtype: object"
            ]
          },
          "execution_count": 120,
          "metadata": {},
          "output_type": "execute_result"
        }
      ],
      "source": [
        "modes=df.mode().iloc[0]\n",
        "modes"
      ]
    },
    {
      "cell_type": "code",
      "execution_count": null,
      "metadata": {
        "id": "pNejzhp6hakR"
      },
      "outputs": [],
      "source": [
        "df.fillna(modes,inplace=True)"
      ]
    },
    {
      "cell_type": "markdown",
      "metadata": {
        "id": "fghUDSkGhakR"
      },
      "source": [
        "# lets see the distribution"
      ]
    },
    {
      "cell_type": "code",
      "execution_count": null,
      "metadata": {
        "id": "RPRbz-X4hakR",
        "outputId": "fc3ac74a-5caa-4704-d6ae-45f2abddd54b"
      },
      "outputs": [
        {
          "data": {
            "text/html": [
              "<div>\n",
              "<style scoped>\n",
              "    .dataframe tbody tr th:only-of-type {\n",
              "        vertical-align: middle;\n",
              "    }\n",
              "\n",
              "    .dataframe tbody tr th {\n",
              "        vertical-align: top;\n",
              "    }\n",
              "\n",
              "    .dataframe thead th {\n",
              "        text-align: right;\n",
              "    }\n",
              "</style>\n",
              "<table border=\"1\" class=\"dataframe\">\n",
              "  <thead>\n",
              "    <tr style=\"text-align: right;\">\n",
              "      <th></th>\n",
              "      <th>Longitude</th>\n",
              "      <th>Latitude</th>\n",
              "      <th>Speed</th>\n",
              "      <th>CellID</th>\n",
              "      <th>RSRP</th>\n",
              "      <th>DL_bitrate</th>\n",
              "      <th>UL_bitrate</th>\n",
              "    </tr>\n",
              "  </thead>\n",
              "  <tbody>\n",
              "    <tr>\n",
              "      <th>count</th>\n",
              "      <td>174523.000000</td>\n",
              "      <td>174523.000000</td>\n",
              "      <td>174523.000000</td>\n",
              "      <td>174523.000000</td>\n",
              "      <td>174523.000000</td>\n",
              "      <td>174523.000000</td>\n",
              "      <td>174523.000000</td>\n",
              "    </tr>\n",
              "    <tr>\n",
              "      <th>mean</th>\n",
              "      <td>-8.441232</td>\n",
              "      <td>52.017980</td>\n",
              "      <td>30.530429</td>\n",
              "      <td>4563.573741</td>\n",
              "      <td>-91.517542</td>\n",
              "      <td>10822.324427</td>\n",
              "      <td>184.749529</td>\n",
              "    </tr>\n",
              "    <tr>\n",
              "      <th>std</th>\n",
              "      <td>0.419659</td>\n",
              "      <td>0.306211</td>\n",
              "      <td>38.297034</td>\n",
              "      <td>12035.047726</td>\n",
              "      <td>16.342720</td>\n",
              "      <td>14149.653859</td>\n",
              "      <td>220.538218</td>\n",
              "    </tr>\n",
              "    <tr>\n",
              "      <th>min</th>\n",
              "      <td>-9.589915</td>\n",
              "      <td>51.871394</td>\n",
              "      <td>0.000000</td>\n",
              "      <td>0.000000</td>\n",
              "      <td>-200.000000</td>\n",
              "      <td>0.000000</td>\n",
              "      <td>0.000000</td>\n",
              "    </tr>\n",
              "    <tr>\n",
              "      <th>25%</th>\n",
              "      <td>-8.505997</td>\n",
              "      <td>51.893450</td>\n",
              "      <td>0.000000</td>\n",
              "      <td>2.000000</td>\n",
              "      <td>-102.000000</td>\n",
              "      <td>1386.000000</td>\n",
              "      <td>32.000000</td>\n",
              "    </tr>\n",
              "    <tr>\n",
              "      <th>50%</th>\n",
              "      <td>-8.488805</td>\n",
              "      <td>51.899414</td>\n",
              "      <td>17.000000</td>\n",
              "      <td>2.000000</td>\n",
              "      <td>-93.000000</td>\n",
              "      <td>5370.000000</td>\n",
              "      <td>107.000000</td>\n",
              "    </tr>\n",
              "    <tr>\n",
              "      <th>75%</th>\n",
              "      <td>-8.459378</td>\n",
              "      <td>51.935595</td>\n",
              "      <td>46.000000</td>\n",
              "      <td>8.000000</td>\n",
              "      <td>-82.000000</td>\n",
              "      <td>14796.000000</td>\n",
              "      <td>266.000000</td>\n",
              "    </tr>\n",
              "    <tr>\n",
              "      <th>max</th>\n",
              "      <td>-6.295653</td>\n",
              "      <td>53.346380</td>\n",
              "      <td>166.000000</td>\n",
              "      <td>65353.000000</td>\n",
              "      <td>-27.000000</td>\n",
              "      <td>173016.000000</td>\n",
              "      <td>4178.000000</td>\n",
              "    </tr>\n",
              "  </tbody>\n",
              "</table>\n",
              "</div>"
            ],
            "text/plain": [
              "           Longitude       Latitude          Speed         CellID  \\\n",
              "count  174523.000000  174523.000000  174523.000000  174523.000000   \n",
              "mean       -8.441232      52.017980      30.530429    4563.573741   \n",
              "std         0.419659       0.306211      38.297034   12035.047726   \n",
              "min        -9.589915      51.871394       0.000000       0.000000   \n",
              "25%        -8.505997      51.893450       0.000000       2.000000   \n",
              "50%        -8.488805      51.899414      17.000000       2.000000   \n",
              "75%        -8.459378      51.935595      46.000000       8.000000   \n",
              "max        -6.295653      53.346380     166.000000   65353.000000   \n",
              "\n",
              "                RSRP     DL_bitrate     UL_bitrate  \n",
              "count  174523.000000  174523.000000  174523.000000  \n",
              "mean      -91.517542   10822.324427     184.749529  \n",
              "std        16.342720   14149.653859     220.538218  \n",
              "min      -200.000000       0.000000       0.000000  \n",
              "25%      -102.000000    1386.000000      32.000000  \n",
              "50%       -93.000000    5370.000000     107.000000  \n",
              "75%       -82.000000   14796.000000     266.000000  \n",
              "max       -27.000000  173016.000000    4178.000000  "
            ]
          },
          "execution_count": 122,
          "metadata": {},
          "output_type": "execute_result"
        }
      ],
      "source": [
        "df.describe(include=(np.number))"
      ]
    },
    {
      "cell_type": "code",
      "execution_count": null,
      "metadata": {
        "id": "GJosVGWFhakR",
        "outputId": "b851bb67-b385-4089-c156-2368a04cc38a"
      },
      "outputs": [
        {
          "data": {
            "image/png": "[encoded data removed]",
            "text/plain": [
              "<Figure size 432x288 with 1 Axes>"
            ]
          },
          "metadata": {},
          "output_type": "display_data"
        }
      ],
      "source": [
        "df.Speed.hist();\n"
      ]
    },
    {
      "cell_type": "code",
      "execution_count": null,
      "metadata": {
        "id": "8IvCcGIchakR",
        "outputId": "0ebc052b-2297-4ceb-ee46-48189e0f80aa"
      },
      "outputs": [
        {
          "data": {
            "image/png": "[encoded data removed]",
            "text/plain": [
              "<Figure size 432x288 with 1 Axes>"
            ]
          },
          "metadata": {},
          "output_type": "display_data"
        }
      ],
      "source": [
        "\n",
        "df.DL_bitrate.hist();\n"
      ]
    },
    {
      "cell_type": "code",
      "execution_count": null,
      "metadata": {
        "id": "TqjVVWWEhakR",
        "outputId": "bf06837b-ac88-48c3-da85-aca330520cbe"
      },
      "outputs": [
        {
          "data": {
            "image/png": "[encoded data removed]",
            "text/plain": [
              "<Figure size 432x288 with 1 Axes>"
            ]
          },
          "metadata": {},
          "output_type": "display_data"
        }
      ],
      "source": [
        "df.UL_bitrate.hist();"
      ]
    },
    {
      "cell_type": "markdown",
      "metadata": {
        "id": "WuunQA40hakR"
      },
      "source": [
        "these are alll unevenly disrubtued maybe i can revist this in the furture"
      ]
    },
    {
      "cell_type": "code",
      "execution_count": null,
      "metadata": {
        "id": "qycpykzyhakR",
        "outputId": "8dfa39f7-1ddc-4644-aa8b-c3c5337a681e"
      },
      "outputs": [
        {
          "data": {
            "text/html": [
              "<div>\n",
              "<style scoped>\n",
              "    .dataframe tbody tr th:only-of-type {\n",
              "        vertical-align: middle;\n",
              "    }\n",
              "\n",
              "    .dataframe tbody tr th {\n",
              "        vertical-align: top;\n",
              "    }\n",
              "\n",
              "    .dataframe thead th {\n",
              "        text-align: right;\n",
              "    }\n",
              "</style>\n",
              "<table border=\"1\" class=\"dataframe\">\n",
              "  <thead>\n",
              "    <tr style=\"text-align: right;\">\n",
              "      <th></th>\n",
              "      <th>Timestamp</th>\n",
              "      <th>Operatorname</th>\n",
              "      <th>NetworkMode</th>\n",
              "      <th>RSRQ</th>\n",
              "      <th>SNR</th>\n",
              "      <th>CQI</th>\n",
              "      <th>RSSI</th>\n",
              "      <th>State</th>\n",
              "      <th>NRxRSRP</th>\n",
              "      <th>NRxRSRQ</th>\n",
              "      <th>ServingCell_Lon</th>\n",
              "      <th>ServingCell_Lat</th>\n",
              "      <th>ServingCell_Distance</th>\n",
              "      <th>path</th>\n",
              "    </tr>\n",
              "  </thead>\n",
              "  <tbody>\n",
              "    <tr>\n",
              "      <th>count</th>\n",
              "      <td>174523</td>\n",
              "      <td>174523</td>\n",
              "      <td>174523</td>\n",
              "      <td>174523</td>\n",
              "      <td>174523</td>\n",
              "      <td>174523</td>\n",
              "      <td>174523</td>\n",
              "      <td>174523</td>\n",
              "      <td>174523</td>\n",
              "      <td>174523</td>\n",
              "      <td>174523</td>\n",
              "      <td>174523</td>\n",
              "      <td>174523</td>\n",
              "      <td>174523</td>\n",
              "    </tr>\n",
              "    <tr>\n",
              "      <th>unique</th>\n",
              "      <td>142130</td>\n",
              "      <td>7</td>\n",
              "      <td>7</td>\n",
              "      <td>51</td>\n",
              "      <td>104</td>\n",
              "      <td>15</td>\n",
              "      <td>59</td>\n",
              "      <td>2</td>\n",
              "      <td>145</td>\n",
              "      <td>53</td>\n",
              "      <td>635</td>\n",
              "      <td>623</td>\n",
              "      <td>5381</td>\n",
              "      <td>5</td>\n",
              "    </tr>\n",
              "    <tr>\n",
              "      <th>top</th>\n",
              "      <td>2018.02.02_10.28.45</td>\n",
              "      <td>A</td>\n",
              "      <td>LTE</td>\n",
              "      <td>-2</td>\n",
              "      <td>5.0</td>\n",
              "      <td>6</td>\n",
              "      <td>-94</td>\n",
              "      <td>D</td>\n",
              "      <td>-51</td>\n",
              "      <td>-24</td>\n",
              "      <td>-8.491719</td>\n",
              "      <td>51.893905</td>\n",
              "      <td>650.55</td>\n",
              "      <td>car</td>\n",
              "    </tr>\n",
              "    <tr>\n",
              "      <th>freq</th>\n",
              "      <td>6</td>\n",
              "      <td>139813</td>\n",
              "      <td>120824</td>\n",
              "      <td>51929</td>\n",
              "      <td>58118</td>\n",
              "      <td>72291</td>\n",
              "      <td>80499</td>\n",
              "      <td>160336</td>\n",
              "      <td>79859</td>\n",
              "      <td>81034</td>\n",
              "      <td>67189</td>\n",
              "      <td>67189</td>\n",
              "      <td>52737</td>\n",
              "      <td>75874</td>\n",
              "    </tr>\n",
              "  </tbody>\n",
              "</table>\n",
              "</div>"
            ],
            "text/plain": [
              "                  Timestamp Operatorname NetworkMode    RSRQ     SNR     CQI  \\\n",
              "count                174523       174523      174523  174523  174523  174523   \n",
              "unique               142130            7           7      51     104      15   \n",
              "top     2018.02.02_10.28.45            A         LTE      -2     5.0       6   \n",
              "freq                      6       139813      120824   51929   58118   72291   \n",
              "\n",
              "          RSSI   State NRxRSRP NRxRSRQ ServingCell_Lon ServingCell_Lat  \\\n",
              "count   174523  174523  174523  174523          174523          174523   \n",
              "unique      59       2     145      53             635             623   \n",
              "top        -94       D     -51     -24       -8.491719       51.893905   \n",
              "freq     80499  160336   79859   81034           67189           67189   \n",
              "\n",
              "       ServingCell_Distance    path  \n",
              "count                174523  174523  \n",
              "unique                 5381       5  \n",
              "top                  650.55     car  \n",
              "freq                  52737   75874  "
            ]
          },
          "execution_count": 126,
          "metadata": {},
          "output_type": "execute_result"
        }
      ],
      "source": [
        "df.describe(include=[object])"
      ]
    },
    {
      "cell_type": "code",
      "execution_count": null,
      "metadata": {
        "id": "1tyJK-ahhakR"
      },
      "outputs": [],
      "source": [
        "df =pd.get_dummies(df, columns= ['Operatorname','path','State','NetworkMode'])"
      ]
    },
    {
      "cell_type": "code",
      "execution_count": null,
      "metadata": {
        "id": "EQ0kN_KOhakR",
        "outputId": "6d52b7a4-4fdb-4870-a911-f37538083285"
      },
      "outputs": [
        {
          "data": {
            "text/html": [
              "<div>\n",
              "<style scoped>\n",
              "    .dataframe tbody tr th:only-of-type {\n",
              "        vertical-align: middle;\n",
              "    }\n",
              "\n",
              "    .dataframe tbody tr th {\n",
              "        vertical-align: top;\n",
              "    }\n",
              "\n",
              "    .dataframe thead th {\n",
              "        text-align: right;\n",
              "    }\n",
              "</style>\n",
              "<table border=\"1\" class=\"dataframe\">\n",
              "  <thead>\n",
              "    <tr style=\"text-align: right;\">\n",
              "      <th></th>\n",
              "      <th>Timestamp</th>\n",
              "      <th>Longitude</th>\n",
              "      <th>Latitude</th>\n",
              "      <th>Speed</th>\n",
              "      <th>CellID</th>\n",
              "      <th>RSRP</th>\n",
              "      <th>RSRQ</th>\n",
              "      <th>SNR</th>\n",
              "      <th>CQI</th>\n",
              "      <th>RSSI</th>\n",
              "      <th>...</th>\n",
              "      <th>path_train</th>\n",
              "      <th>State_D</th>\n",
              "      <th>State_I</th>\n",
              "      <th>NetworkMode_EDGE</th>\n",
              "      <th>NetworkMode_GPRS</th>\n",
              "      <th>NetworkMode_HSDPA</th>\n",
              "      <th>NetworkMode_HSPA+</th>\n",
              "      <th>NetworkMode_HSUPA</th>\n",
              "      <th>NetworkMode_LTE</th>\n",
              "      <th>NetworkMode_UMTS</th>\n",
              "    </tr>\n",
              "  </thead>\n",
              "  <tbody>\n",
              "    <tr>\n",
              "      <th>0</th>\n",
              "      <td>2018.01.25_19.50.43</td>\n",
              "      <td>-8.466939</td>\n",
              "      <td>51.897914</td>\n",
              "      <td>46</td>\n",
              "      <td>2</td>\n",
              "      <td>-99</td>\n",
              "      <td>-14</td>\n",
              "      <td>-2.0</td>\n",
              "      <td>6</td>\n",
              "      <td>-82</td>\n",
              "      <td>...</td>\n",
              "      <td>0</td>\n",
              "      <td>1</td>\n",
              "      <td>0</td>\n",
              "      <td>0</td>\n",
              "      <td>0</td>\n",
              "      <td>0</td>\n",
              "      <td>0</td>\n",
              "      <td>0</td>\n",
              "      <td>1</td>\n",
              "      <td>0</td>\n",
              "    </tr>\n",
              "    <tr>\n",
              "      <th>1</th>\n",
              "      <td>2018.01.25_19.50.44</td>\n",
              "      <td>-8.466616</td>\n",
              "      <td>51.897283</td>\n",
              "      <td>30</td>\n",
              "      <td>2</td>\n",
              "      <td>-99</td>\n",
              "      <td>-14</td>\n",
              "      <td>-1.0</td>\n",
              "      <td>7</td>\n",
              "      <td>-78</td>\n",
              "      <td>...</td>\n",
              "      <td>0</td>\n",
              "      <td>1</td>\n",
              "      <td>0</td>\n",
              "      <td>0</td>\n",
              "      <td>0</td>\n",
              "      <td>0</td>\n",
              "      <td>0</td>\n",
              "      <td>0</td>\n",
              "      <td>1</td>\n",
              "      <td>0</td>\n",
              "    </tr>\n",
              "    <tr>\n",
              "      <th>2</th>\n",
              "      <td>2018.01.25_19.50.44</td>\n",
              "      <td>-8.466616</td>\n",
              "      <td>51.897283</td>\n",
              "      <td>30</td>\n",
              "      <td>2</td>\n",
              "      <td>-99</td>\n",
              "      <td>-14</td>\n",
              "      <td>-2.0</td>\n",
              "      <td>7</td>\n",
              "      <td>-78</td>\n",
              "      <td>...</td>\n",
              "      <td>0</td>\n",
              "      <td>1</td>\n",
              "      <td>0</td>\n",
              "      <td>0</td>\n",
              "      <td>0</td>\n",
              "      <td>0</td>\n",
              "      <td>0</td>\n",
              "      <td>0</td>\n",
              "      <td>1</td>\n",
              "      <td>0</td>\n",
              "    </tr>\n",
              "    <tr>\n",
              "      <th>3</th>\n",
              "      <td>2018.01.25_19.50.46</td>\n",
              "      <td>-8.466616</td>\n",
              "      <td>51.897283</td>\n",
              "      <td>30</td>\n",
              "      <td>2</td>\n",
              "      <td>-98</td>\n",
              "      <td>-15</td>\n",
              "      <td>-1.0</td>\n",
              "      <td>6</td>\n",
              "      <td>-81</td>\n",
              "      <td>...</td>\n",
              "      <td>0</td>\n",
              "      <td>1</td>\n",
              "      <td>0</td>\n",
              "      <td>0</td>\n",
              "      <td>0</td>\n",
              "      <td>0</td>\n",
              "      <td>0</td>\n",
              "      <td>0</td>\n",
              "      <td>1</td>\n",
              "      <td>0</td>\n",
              "    </tr>\n",
              "    <tr>\n",
              "      <th>4</th>\n",
              "      <td>2018.01.25_19.50.47</td>\n",
              "      <td>-8.466616</td>\n",
              "      <td>51.897283</td>\n",
              "      <td>30</td>\n",
              "      <td>2</td>\n",
              "      <td>-98</td>\n",
              "      <td>-15</td>\n",
              "      <td>-1.0</td>\n",
              "      <td>4</td>\n",
              "      <td>-91</td>\n",
              "      <td>...</td>\n",
              "      <td>0</td>\n",
              "      <td>1</td>\n",
              "      <td>0</td>\n",
              "      <td>0</td>\n",
              "      <td>0</td>\n",
              "      <td>0</td>\n",
              "      <td>0</td>\n",
              "      <td>0</td>\n",
              "      <td>1</td>\n",
              "      <td>0</td>\n",
              "    </tr>\n",
              "  </tbody>\n",
              "</table>\n",
              "<p>5 rows × 38 columns</p>\n",
              "</div>"
            ],
            "text/plain": [
              "             Timestamp  Longitude   Latitude  Speed  CellID  RSRP RSRQ   SNR  \\\n",
              "0  2018.01.25_19.50.43  -8.466939  51.897914     46       2   -99  -14  -2.0   \n",
              "1  2018.01.25_19.50.44  -8.466616  51.897283     30       2   -99  -14  -1.0   \n",
              "2  2018.01.25_19.50.44  -8.466616  51.897283     30       2   -99  -14  -2.0   \n",
              "3  2018.01.25_19.50.46  -8.466616  51.897283     30       2   -98  -15  -1.0   \n",
              "4  2018.01.25_19.50.47  -8.466616  51.897283     30       2   -98  -15  -1.0   \n",
              "\n",
              "  CQI RSSI        ...         path_train  State_D State_I NetworkMode_EDGE  \\\n",
              "0   6  -82        ...                  0        1       0                0   \n",
              "1   7  -78        ...                  0        1       0                0   \n",
              "2   7  -78        ...                  0        1       0                0   \n",
              "3   6  -81        ...                  0        1       0                0   \n",
              "4   4  -91        ...                  0        1       0                0   \n",
              "\n",
              "  NetworkMode_GPRS NetworkMode_HSDPA NetworkMode_HSPA+  NetworkMode_HSUPA  \\\n",
              "0                0                 0                 0                  0   \n",
              "1                0                 0                 0                  0   \n",
              "2                0                 0                 0                  0   \n",
              "3                0                 0                 0                  0   \n",
              "4                0                 0                 0                  0   \n",
              "\n",
              "   NetworkMode_LTE  NetworkMode_UMTS  \n",
              "0                1                 0  \n",
              "1                1                 0  \n",
              "2                1                 0  \n",
              "3                1                 0  \n",
              "4                1                 0  \n",
              "\n",
              "[5 rows x 38 columns]"
            ]
          },
          "execution_count": 129,
          "metadata": {},
          "output_type": "execute_result"
        }
      ],
      "source": [
        "df.head()"
      ]
    },
    {
      "cell_type": "markdown",
      "metadata": {
        "id": "nfUO7-1uhakR"
      },
      "source": [
        "# after cleaning"
      ]
    },
    {
      "cell_type": "code",
      "execution_count": null,
      "metadata": {
        "id": "qvG6udFzhakS"
      },
      "outputs": [],
      "source": [
        "df.to_csv(\"cleanedLTEdate.csv\")"
      ]
    },
    {
      "cell_type": "code",
      "execution_count": 6,
      "metadata": {
        "id": "IJK4FBxThakS",
        "outputId": "4e5603fe-6488-40ad-8993-b36d311e09bb",
        "colab": {
          "base_uri": "https://localhost:8080/",
          "height": 299
        }
      },
      "outputs": [
        {
          "output_type": "execute_result",
          "data": {
            "text/plain": [
              "             Timestamp  Longitude   Latitude  Speed  CellID  RSRP  RSRQ  SNR  \\\n",
              "0  2018.01.25_19.50.43  -8.466939  51.897914     46       2   -99   -14 -2.0   \n",
              "1  2018.01.25_19.50.44  -8.466616  51.897283     30       2   -99   -14 -1.0   \n",
              "2  2018.01.25_19.50.44  -8.466616  51.897283     30       2   -99   -14 -2.0   \n",
              "3  2018.01.25_19.50.46  -8.466616  51.897283     30       2   -98   -15 -1.0   \n",
              "4  2018.01.25_19.50.47  -8.466616  51.897283     30       2   -98   -15 -1.0   \n",
              "\n",
              "   CQI  RSSI  ...  path_train  State_D  State_I  NetworkMode_EDGE  \\\n",
              "0    6   -82  ...         0.0      1.0      0.0               0.0   \n",
              "1    7   -78  ...         0.0      1.0      0.0               0.0   \n",
              "2    7   -78  ...         0.0      1.0      0.0               0.0   \n",
              "3    6   -81  ...         0.0      1.0      0.0               0.0   \n",
              "4    4   -91  ...         0.0      1.0      0.0               0.0   \n",
              "\n",
              "   NetworkMode_GPRS  NetworkMode_HSDPA  NetworkMode_HSPA+  NetworkMode_HSUPA  \\\n",
              "0               0.0                0.0                0.0                0.0   \n",
              "1               0.0                0.0                0.0                0.0   \n",
              "2               0.0                0.0                0.0                0.0   \n",
              "3               0.0                0.0                0.0                0.0   \n",
              "4               0.0                0.0                0.0                0.0   \n",
              "\n",
              "   NetworkMode_LTE  NetworkMode_UMTS  \n",
              "0              1.0               0.0  \n",
              "1              1.0               0.0  \n",
              "2              1.0               0.0  \n",
              "3              1.0               0.0  \n",
              "4              1.0               0.0  \n",
              "\n",
              "[5 rows x 38 columns]"
            ],
            "text/html": [
              "\n",
              "\n",
              "  <div id=\"df-e599df46-b24f-4632-ba12-4a8cdf1d2a08\">\n",
              "    <div class=\"colab-df-container\">\n",
              "      <div>\n",
              "<style scoped>\n",
              "    .dataframe tbody tr th:only-of-type {\n",
              "        vertical-align: middle;\n",
              "    }\n",
              "\n",
              "    .dataframe tbody tr th {\n",
              "        vertical-align: top;\n",
              "    }\n",
              "\n",
              "    .dataframe thead th {\n",
              "        text-align: right;\n",
              "    }\n",
              "</style>\n",
              "<table border=\"1\" class=\"dataframe\">\n",
              "  <thead>\n",
              "    <tr style=\"text-align: right;\">\n",
              "      <th></th>\n",
              "      <th>Timestamp</th>\n",
              "      <th>Longitude</th>\n",
              "      <th>Latitude</th>\n",
              "      <th>Speed</th>\n",
              "      <th>CellID</th>\n",
              "      <th>RSRP</th>\n",
              "      <th>RSRQ</th>\n",
              "      <th>SNR</th>\n",
              "      <th>CQI</th>\n",
              "      <th>RSSI</th>\n",
              "      <th>...</th>\n",
              "      <th>path_train</th>\n",
              "      <th>State_D</th>\n",
              "      <th>State_I</th>\n",
              "      <th>NetworkMode_EDGE</th>\n",
              "      <th>NetworkMode_GPRS</th>\n",
              "      <th>NetworkMode_HSDPA</th>\n",
              "      <th>NetworkMode_HSPA+</th>\n",
              "      <th>NetworkMode_HSUPA</th>\n",
              "      <th>NetworkMode_LTE</th>\n",
              "      <th>NetworkMode_UMTS</th>\n",
              "    </tr>\n",
              "  </thead>\n",
              "  <tbody>\n",
              "    <tr>\n",
              "      <th>0</th>\n",
              "      <td>2018.01.25_19.50.43</td>\n",
              "      <td>-8.466939</td>\n",
              "      <td>51.897914</td>\n",
              "      <td>46</td>\n",
              "      <td>2</td>\n",
              "      <td>-99</td>\n",
              "      <td>-14</td>\n",
              "      <td>-2.0</td>\n",
              "      <td>6</td>\n",
              "      <td>-82</td>\n",
              "      <td>...</td>\n",
              "      <td>0.0</td>\n",
              "      <td>1.0</td>\n",
              "      <td>0.0</td>\n",
              "      <td>0.0</td>\n",
              "      <td>0.0</td>\n",
              "      <td>0.0</td>\n",
              "      <td>0.0</td>\n",
              "      <td>0.0</td>\n",
              "      <td>1.0</td>\n",
              "      <td>0.0</td>\n",
              "    </tr>\n",
              "    <tr>\n",
              "      <th>1</th>\n",
              "      <td>2018.01.25_19.50.44</td>\n",
              "      <td>-8.466616</td>\n",
              "      <td>51.897283</td>\n",
              "      <td>30</td>\n",
              "      <td>2</td>\n",
              "      <td>-99</td>\n",
              "      <td>-14</td>\n",
              "      <td>-1.0</td>\n",
              "      <td>7</td>\n",
              "      <td>-78</td>\n",
              "      <td>...</td>\n",
              "      <td>0.0</td>\n",
              "      <td>1.0</td>\n",
              "      <td>0.0</td>\n",
              "      <td>0.0</td>\n",
              "      <td>0.0</td>\n",
              "      <td>0.0</td>\n",
              "      <td>0.0</td>\n",
              "      <td>0.0</td>\n",
              "      <td>1.0</td>\n",
              "      <td>0.0</td>\n",
              "    </tr>\n",
              "    <tr>\n",
              "      <th>2</th>\n",
              "      <td>2018.01.25_19.50.44</td>\n",
              "      <td>-8.466616</td>\n",
              "      <td>51.897283</td>\n",
              "      <td>30</td>\n",
              "      <td>2</td>\n",
              "      <td>-99</td>\n",
              "      <td>-14</td>\n",
              "      <td>-2.0</td>\n",
              "      <td>7</td>\n",
              "      <td>-78</td>\n",
              "      <td>...</td>\n",
              "      <td>0.0</td>\n",
              "      <td>1.0</td>\n",
              "      <td>0.0</td>\n",
              "      <td>0.0</td>\n",
              "      <td>0.0</td>\n",
              "      <td>0.0</td>\n",
              "      <td>0.0</td>\n",
              "      <td>0.0</td>\n",
              "      <td>1.0</td>\n",
              "      <td>0.0</td>\n",
              "    </tr>\n",
              "    <tr>\n",
              "      <th>3</th>\n",
              "      <td>2018.01.25_19.50.46</td>\n",
              "      <td>-8.466616</td>\n",
              "      <td>51.897283</td>\n",
              "      <td>30</td>\n",
              "      <td>2</td>\n",
              "      <td>-98</td>\n",
              "      <td>-15</td>\n",
              "      <td>-1.0</td>\n",
              "      <td>6</td>\n",
              "      <td>-81</td>\n",
              "      <td>...</td>\n",
              "      <td>0.0</td>\n",
              "      <td>1.0</td>\n",
              "      <td>0.0</td>\n",
              "      <td>0.0</td>\n",
              "      <td>0.0</td>\n",
              "      <td>0.0</td>\n",
              "      <td>0.0</td>\n",
              "      <td>0.0</td>\n",
              "      <td>1.0</td>\n",
              "      <td>0.0</td>\n",
              "    </tr>\n",
              "    <tr>\n",
              "      <th>4</th>\n",
              "      <td>2018.01.25_19.50.47</td>\n",
              "      <td>-8.466616</td>\n",
              "      <td>51.897283</td>\n",
              "      <td>30</td>\n",
              "      <td>2</td>\n",
              "      <td>-98</td>\n",
              "      <td>-15</td>\n",
              "      <td>-1.0</td>\n",
              "      <td>4</td>\n",
              "      <td>-91</td>\n",
              "      <td>...</td>\n",
              "      <td>0.0</td>\n",
              "      <td>1.0</td>\n",
              "      <td>0.0</td>\n",
              "      <td>0.0</td>\n",
              "      <td>0.0</td>\n",
              "      <td>0.0</td>\n",
              "      <td>0.0</td>\n",
              "      <td>0.0</td>\n",
              "      <td>1.0</td>\n",
              "      <td>0.0</td>\n",
              "    </tr>\n",
              "  </tbody>\n",
              "</table>\n",
              "<p>5 rows × 38 columns</p>\n",
              "</div>\n",
              "      <button class=\"colab-df-convert\" onclick=\"convertToInteractive('df-e599df46-b24f-4632-ba12-4a8cdf1d2a08')\"\n",
              "              title=\"Convert this dataframe to an interactive table.\"\n",
              "              style=\"display:none;\">\n",
              "\n",
              "  <svg xmlns=\"http://www.w3.org/2000/svg\" height=\"24px\"viewBox=\"0 0 24 24\"\n",
              "       width=\"24px\">\n",
              "    <path d=\"M0 0h24v24H0V0z\" fill=\"none\"/>\n",
              "    <path d=\"M18.56 5.44l.94 2.06.94-2.06 2.06-.94-2.06-.94-.94-2.06-.94 2.06-2.06.94zm-11 1L8.5 8.5l.94-2.06 2.06-.94-2.06-.94L8.5 2.5l-.94 2.06-2.06.94zm10 10l.94 2.06.94-2.06 2.06-.94-2.06-.94-.94-2.06-.94 2.06-2.06.94z\"/><path d=\"M17.41 7.96l-1.37-1.37c-.4-.4-.92-.59-1.43-.59-.52 0-1.04.2-1.43.59L10.3 9.45l-7.72 7.72c-.78.78-.78 2.05 0 2.83L4 21.41c.39.39.9.59 1.41.59.51 0 1.02-.2 1.41-.59l7.78-7.78 2.81-2.81c.8-.78.8-2.07 0-2.86zM5.41 20L4 18.59l7.72-7.72 1.47 1.35L5.41 20z\"/>\n",
              "  </svg>\n",
              "      </button>\n",
              "\n",
              "\n",
              "\n",
              "    <div id=\"df-5aef321b-583b-42de-956d-c00c2315779c\">\n",
              "      <button class=\"colab-df-quickchart\" onclick=\"quickchart('df-5aef321b-583b-42de-956d-c00c2315779c')\"\n",
              "              title=\"Suggest charts.\"\n",
              "              style=\"display:none;\">\n",
              "\n",
              "<svg xmlns=\"http://www.w3.org/2000/svg\" height=\"24px\"viewBox=\"0 0 24 24\"\n",
              "     width=\"24px\">\n",
              "    <g>\n",
              "        <path d=\"M19 3H5c-1.1 0-2 .9-2 2v14c0 1.1.9 2 2 2h14c1.1 0 2-.9 2-2V5c0-1.1-.9-2-2-2zM9 17H7v-7h2v7zm4 0h-2V7h2v10zm4 0h-2v-4h2v4z\"/>\n",
              "    </g>\n",
              "</svg>\n",
              "      </button>\n",
              "    </div>\n",
              "\n",
              "<style>\n",
              "  .colab-df-quickchart {\n",
              "    background-color: #E8F0FE;\n",
              "    border: none;\n",
              "    border-radius: 50%;\n",
              "    cursor: pointer;\n",
              "    display: none;\n",
              "    fill: #1967D2;\n",
              "    height: 32px;\n",
              "    padding: 0 0 0 0;\n",
              "    width: 32px;\n",
              "  }\n",
              "\n",
              "  .colab-df-quickchart:hover {\n",
              "    background-color: #E2EBFA;\n",
              "    box-shadow: 0px 1px 2px rgba(60, 64, 67, 0.3), 0px 1px 3px 1px rgba(60, 64, 67, 0.15);\n",
              "    fill: #174EA6;\n",
              "  }\n",
              "\n",
              "  [theme=dark] .colab-df-quickchart {\n",
              "    background-color: #3B4455;\n",
              "    fill: #D2E3FC;\n",
              "  }\n",
              "\n",
              "  [theme=dark] .colab-df-quickchart:hover {\n",
              "    background-color: #434B5C;\n",
              "    box-shadow: 0px 1px 3px 1px rgba(0, 0, 0, 0.15);\n",
              "    filter: drop-shadow(0px 1px 2px rgba(0, 0, 0, 0.3));\n",
              "    fill: #FFFFFF;\n",
              "  }\n",
              "</style>\n",
              "\n",
              "    <script>\n",
              "      async function quickchart(key) {\n",
              "        const containerElement = document.querySelector('#' + key);\n",
              "        const charts = await google.colab.kernel.invokeFunction(\n",
              "            'suggestCharts', [key], {});\n",
              "      }\n",
              "    </script>\n",
              "\n",
              "      <script>\n",
              "\n",
              "function displayQuickchartButton(domScope) {\n",
              "  let quickchartButtonEl =\n",
              "    domScope.querySelector('#df-5aef321b-583b-42de-956d-c00c2315779c button.colab-df-quickchart');\n",
              "  quickchartButtonEl.style.display =\n",
              "    google.colab.kernel.accessAllowed ? 'block' : 'none';\n",
              "}\n",
              "\n",
              "        displayQuickchartButton(document);\n",
              "      </script>\n",
              "      <style>\n",
              "    .colab-df-container {\n",
              "      display:flex;\n",
              "      flex-wrap:wrap;\n",
              "      gap: 12px;\n",
              "    }\n",
              "\n",
              "    .colab-df-convert {\n",
              "      background-color: #E8F0FE;\n",
              "      border: none;\n",
              "      border-radius: 50%;\n",
              "      cursor: pointer;\n",
              "      display: none;\n",
              "      fill: #1967D2;\n",
              "      height: 32px;\n",
              "      padding: 0 0 0 0;\n",
              "      width: 32px;\n",
              "    }\n",
              "\n",
              "    .colab-df-convert:hover {\n",
              "      background-color: #E2EBFA;\n",
              "      box-shadow: 0px 1px 2px rgba(60, 64, 67, 0.3), 0px 1px 3px 1px rgba(60, 64, 67, 0.15);\n",
              "      fill: #174EA6;\n",
              "    }\n",
              "\n",
              "    [theme=dark] .colab-df-convert {\n",
              "      background-color: #3B4455;\n",
              "      fill: #D2E3FC;\n",
              "    }\n",
              "\n",
              "    [theme=dark] .colab-df-convert:hover {\n",
              "      background-color: #434B5C;\n",
              "      box-shadow: 0px 1px 3px 1px rgba(0, 0, 0, 0.15);\n",
              "      filter: drop-shadow(0px 1px 2px rgba(0, 0, 0, 0.3));\n",
              "      fill: #FFFFFF;\n",
              "    }\n",
              "  </style>\n",
              "\n",
              "      <script>\n",
              "        const buttonEl =\n",
              "          document.querySelector('#df-e599df46-b24f-4632-ba12-4a8cdf1d2a08 button.colab-df-convert');\n",
              "        buttonEl.style.display =\n",
              "          google.colab.kernel.accessAllowed ? 'block' : 'none';\n",
              "\n",
              "        async function convertToInteractive(key) {\n",
              "          const element = document.querySelector('#df-e599df46-b24f-4632-ba12-4a8cdf1d2a08');\n",
              "          const dataTable =\n",
              "            await google.colab.kernel.invokeFunction('convertToInteractive',\n",
              "                                                     [key], {});\n",
              "          if (!dataTable) return;\n",
              "\n",
              "          const docLinkHtml = 'Like what you see? Visit the ' +\n",
              "            '<a target=\"_blank\" href=https://colab.research.google.com/notebooks/data_table.ipynb>data table notebook</a>'\n",
              "            + ' to learn more about interactive tables.';\n",
              "          element.innerHTML = '';\n",
              "          dataTable['output_type'] = 'display_data';\n",
              "          await google.colab.output.renderOutput(dataTable, element);\n",
              "          const docLink = document.createElement('div');\n",
              "          docLink.innerHTML = docLinkHtml;\n",
              "          element.appendChild(docLink);\n",
              "        }\n",
              "      </script>\n",
              "    </div>\n",
              "  </div>\n"
            ]
          },
          "metadata": {},
          "execution_count": 6
        }
      ],
      "source": [
        "import pandas as pd\n",
        "df= pd.read_csv(\"/cleanedLTEdate.csv\")\n",
        "df.drop(df.columns[0],axis=True,inplace=True)\n",
        "df.head()"
      ]
    },
    {
      "cell_type": "code",
      "execution_count": 7,
      "metadata": {
        "id": "Fy-B_zithakS"
      },
      "outputs": [],
      "source": [
        "from torch import tensor\n",
        "\n",
        "t_dep =tensor(df.Speed)"
      ]
    },
    {
      "cell_type": "code",
      "source": [
        "df.isnull().sum()\n"
      ],
      "metadata": {
        "id": "gXZPlbbmliUp",
        "outputId": "401251cd-5563-4423-efaa-9094d23eafb7",
        "colab": {
          "base_uri": "https://localhost:8080/"
        }
      },
      "execution_count": 40,
      "outputs": [
        {
          "output_type": "execute_result",
          "data": {
            "text/plain": [
              "Timestamp               0\n",
              "Longitude               0\n",
              "Latitude                0\n",
              "Speed                   0\n",
              "CellID                  0\n",
              "RSRP                    0\n",
              "RSRQ                    0\n",
              "SNR                     0\n",
              "CQI                     0\n",
              "RSSI                    0\n",
              "DL_bitrate              0\n",
              "UL_bitrate              0\n",
              "NRxRSRP                 0\n",
              "NRxRSRQ                 0\n",
              "ServingCell_Lon         0\n",
              "ServingCell_Lat         0\n",
              "ServingCell_Distance    0\n",
              "Operatorname_0          0\n",
              "Operatorname_27201      0\n",
              "Operatorname_27202      0\n",
              "Operatorname_27203      0\n",
              "Operatorname_27205      0\n",
              "Operatorname_A          1\n",
              "Operatorname_B          1\n",
              "path_bus                1\n",
              "path_car                1\n",
              "path_pedestrian         1\n",
              "path_static             1\n",
              "path_train              1\n",
              "State_D                 1\n",
              "State_I                 1\n",
              "NetworkMode_EDGE        1\n",
              "NetworkMode_GPRS        1\n",
              "NetworkMode_HSDPA       1\n",
              "NetworkMode_HSPA+       1\n",
              "NetworkMode_HSUPA       1\n",
              "NetworkMode_LTE         1\n",
              "NetworkMode_UMTS        1\n",
              "dtype: int64"
            ]
          },
          "metadata": {},
          "execution_count": 40
        }
      ]
    },
    {
      "cell_type": "code",
      "execution_count": 8,
      "metadata": {
        "id": "6uTCUUB_hakS",
        "outputId": "c9abb3ed-5f46-4a90-e88b-c1183d81b672",
        "colab": {
          "base_uri": "https://localhost:8080/",
          "height": 299
        }
      },
      "outputs": [
        {
          "output_type": "execute_result",
          "data": {
            "text/plain": [
              "   Operatorname_0  Operatorname_27201  Operatorname_27202  Operatorname_27203  \\\n",
              "0               0                   0                   0                   0   \n",
              "1               0                   0                   0                   0   \n",
              "2               0                   0                   0                   0   \n",
              "3               0                   0                   0                   0   \n",
              "4               0                   0                   0                   0   \n",
              "\n",
              "   Operatorname_27205  Operatorname_A  Operatorname_B  path_bus  path_car  \\\n",
              "0                   0             0.0             1.0       1.0       0.0   \n",
              "1                   0             0.0             1.0       1.0       0.0   \n",
              "2                   0             0.0             1.0       1.0       0.0   \n",
              "3                   0             0.0             1.0       1.0       0.0   \n",
              "4                   0             0.0             1.0       1.0       0.0   \n",
              "\n",
              "   path_pedestrian  ...  path_train  State_D  State_I  NetworkMode_EDGE  \\\n",
              "0              0.0  ...         0.0      1.0      0.0               0.0   \n",
              "1              0.0  ...         0.0      1.0      0.0               0.0   \n",
              "2              0.0  ...         0.0      1.0      0.0               0.0   \n",
              "3              0.0  ...         0.0      1.0      0.0               0.0   \n",
              "4              0.0  ...         0.0      1.0      0.0               0.0   \n",
              "\n",
              "   NetworkMode_GPRS  NetworkMode_HSDPA  NetworkMode_HSPA+  NetworkMode_HSUPA  \\\n",
              "0               0.0                0.0                0.0                0.0   \n",
              "1               0.0                0.0                0.0                0.0   \n",
              "2               0.0                0.0                0.0                0.0   \n",
              "3               0.0                0.0                0.0                0.0   \n",
              "4               0.0                0.0                0.0                0.0   \n",
              "\n",
              "   NetworkMode_LTE  NetworkMode_UMTS  \n",
              "0              1.0               0.0  \n",
              "1              1.0               0.0  \n",
              "2              1.0               0.0  \n",
              "3              1.0               0.0  \n",
              "4              1.0               0.0  \n",
              "\n",
              "[5 rows x 21 columns]"
            ],
            "text/html": [
              "\n",
              "\n",
              "  <div id=\"df-1bfce967-2084-4bef-8aef-9f7927f08ebb\">\n",
              "    <div class=\"colab-df-container\">\n",
              "      <div>\n",
              "<style scoped>\n",
              "    .dataframe tbody tr th:only-of-type {\n",
              "        vertical-align: middle;\n",
              "    }\n",
              "\n",
              "    .dataframe tbody tr th {\n",
              "        vertical-align: top;\n",
              "    }\n",
              "\n",
              "    .dataframe thead th {\n",
              "        text-align: right;\n",
              "    }\n",
              "</style>\n",
              "<table border=\"1\" class=\"dataframe\">\n",
              "  <thead>\n",
              "    <tr style=\"text-align: right;\">\n",
              "      <th></th>\n",
              "      <th>Operatorname_0</th>\n",
              "      <th>Operatorname_27201</th>\n",
              "      <th>Operatorname_27202</th>\n",
              "      <th>Operatorname_27203</th>\n",
              "      <th>Operatorname_27205</th>\n",
              "      <th>Operatorname_A</th>\n",
              "      <th>Operatorname_B</th>\n",
              "      <th>path_bus</th>\n",
              "      <th>path_car</th>\n",
              "      <th>path_pedestrian</th>\n",
              "      <th>...</th>\n",
              "      <th>path_train</th>\n",
              "      <th>State_D</th>\n",
              "      <th>State_I</th>\n",
              "      <th>NetworkMode_EDGE</th>\n",
              "      <th>NetworkMode_GPRS</th>\n",
              "      <th>NetworkMode_HSDPA</th>\n",
              "      <th>NetworkMode_HSPA+</th>\n",
              "      <th>NetworkMode_HSUPA</th>\n",
              "      <th>NetworkMode_LTE</th>\n",
              "      <th>NetworkMode_UMTS</th>\n",
              "    </tr>\n",
              "  </thead>\n",
              "  <tbody>\n",
              "    <tr>\n",
              "      <th>0</th>\n",
              "      <td>0</td>\n",
              "      <td>0</td>\n",
              "      <td>0</td>\n",
              "      <td>0</td>\n",
              "      <td>0</td>\n",
              "      <td>0.0</td>\n",
              "      <td>1.0</td>\n",
              "      <td>1.0</td>\n",
              "      <td>0.0</td>\n",
              "      <td>0.0</td>\n",
              "      <td>...</td>\n",
              "      <td>0.0</td>\n",
              "      <td>1.0</td>\n",
              "      <td>0.0</td>\n",
              "      <td>0.0</td>\n",
              "      <td>0.0</td>\n",
              "      <td>0.0</td>\n",
              "      <td>0.0</td>\n",
              "      <td>0.0</td>\n",
              "      <td>1.0</td>\n",
              "      <td>0.0</td>\n",
              "    </tr>\n",
              "    <tr>\n",
              "      <th>1</th>\n",
              "      <td>0</td>\n",
              "      <td>0</td>\n",
              "      <td>0</td>\n",
              "      <td>0</td>\n",
              "      <td>0</td>\n",
              "      <td>0.0</td>\n",
              "      <td>1.0</td>\n",
              "      <td>1.0</td>\n",
              "      <td>0.0</td>\n",
              "      <td>0.0</td>\n",
              "      <td>...</td>\n",
              "      <td>0.0</td>\n",
              "      <td>1.0</td>\n",
              "      <td>0.0</td>\n",
              "      <td>0.0</td>\n",
              "      <td>0.0</td>\n",
              "      <td>0.0</td>\n",
              "      <td>0.0</td>\n",
              "      <td>0.0</td>\n",
              "      <td>1.0</td>\n",
              "      <td>0.0</td>\n",
              "    </tr>\n",
              "    <tr>\n",
              "      <th>2</th>\n",
              "      <td>0</td>\n",
              "      <td>0</td>\n",
              "      <td>0</td>\n",
              "      <td>0</td>\n",
              "      <td>0</td>\n",
              "      <td>0.0</td>\n",
              "      <td>1.0</td>\n",
              "      <td>1.0</td>\n",
              "      <td>0.0</td>\n",
              "      <td>0.0</td>\n",
              "      <td>...</td>\n",
              "      <td>0.0</td>\n",
              "      <td>1.0</td>\n",
              "      <td>0.0</td>\n",
              "      <td>0.0</td>\n",
              "      <td>0.0</td>\n",
              "      <td>0.0</td>\n",
              "      <td>0.0</td>\n",
              "      <td>0.0</td>\n",
              "      <td>1.0</td>\n",
              "      <td>0.0</td>\n",
              "    </tr>\n",
              "    <tr>\n",
              "      <th>3</th>\n",
              "      <td>0</td>\n",
              "      <td>0</td>\n",
              "      <td>0</td>\n",
              "      <td>0</td>\n",
              "      <td>0</td>\n",
              "      <td>0.0</td>\n",
              "      <td>1.0</td>\n",
              "      <td>1.0</td>\n",
              "      <td>0.0</td>\n",
              "      <td>0.0</td>\n",
              "      <td>...</td>\n",
              "      <td>0.0</td>\n",
              "      <td>1.0</td>\n",
              "      <td>0.0</td>\n",
              "      <td>0.0</td>\n",
              "      <td>0.0</td>\n",
              "      <td>0.0</td>\n",
              "      <td>0.0</td>\n",
              "      <td>0.0</td>\n",
              "      <td>1.0</td>\n",
              "      <td>0.0</td>\n",
              "    </tr>\n",
              "    <tr>\n",
              "      <th>4</th>\n",
              "      <td>0</td>\n",
              "      <td>0</td>\n",
              "      <td>0</td>\n",
              "      <td>0</td>\n",
              "      <td>0</td>\n",
              "      <td>0.0</td>\n",
              "      <td>1.0</td>\n",
              "      <td>1.0</td>\n",
              "      <td>0.0</td>\n",
              "      <td>0.0</td>\n",
              "      <td>...</td>\n",
              "      <td>0.0</td>\n",
              "      <td>1.0</td>\n",
              "      <td>0.0</td>\n",
              "      <td>0.0</td>\n",
              "      <td>0.0</td>\n",
              "      <td>0.0</td>\n",
              "      <td>0.0</td>\n",
              "      <td>0.0</td>\n",
              "      <td>1.0</td>\n",
              "      <td>0.0</td>\n",
              "    </tr>\n",
              "  </tbody>\n",
              "</table>\n",
              "<p>5 rows × 21 columns</p>\n",
              "</div>\n",
              "      <button class=\"colab-df-convert\" onclick=\"convertToInteractive('df-1bfce967-2084-4bef-8aef-9f7927f08ebb')\"\n",
              "              title=\"Convert this dataframe to an interactive table.\"\n",
              "              style=\"display:none;\">\n",
              "\n",
              "  <svg xmlns=\"http://www.w3.org/2000/svg\" height=\"24px\"viewBox=\"0 0 24 24\"\n",
              "       width=\"24px\">\n",
              "    <path d=\"M0 0h24v24H0V0z\" fill=\"none\"/>\n",
              "    <path d=\"M18.56 5.44l.94 2.06.94-2.06 2.06-.94-2.06-.94-.94-2.06-.94 2.06-2.06.94zm-11 1L8.5 8.5l.94-2.06 2.06-.94-2.06-.94L8.5 2.5l-.94 2.06-2.06.94zm10 10l.94 2.06.94-2.06 2.06-.94-2.06-.94-.94-2.06-.94 2.06-2.06.94z\"/><path d=\"M17.41 7.96l-1.37-1.37c-.4-.4-.92-.59-1.43-.59-.52 0-1.04.2-1.43.59L10.3 9.45l-7.72 7.72c-.78.78-.78 2.05 0 2.83L4 21.41c.39.39.9.59 1.41.59.51 0 1.02-.2 1.41-.59l7.78-7.78 2.81-2.81c.8-.78.8-2.07 0-2.86zM5.41 20L4 18.59l7.72-7.72 1.47 1.35L5.41 20z\"/>\n",
              "  </svg>\n",
              "      </button>\n",
              "\n",
              "\n",
              "\n",
              "    <div id=\"df-72ff0075-51d8-43cf-a9b6-e396b1d4cef6\">\n",
              "      <button class=\"colab-df-quickchart\" onclick=\"quickchart('df-72ff0075-51d8-43cf-a9b6-e396b1d4cef6')\"\n",
              "              title=\"Suggest charts.\"\n",
              "              style=\"display:none;\">\n",
              "\n",
              "<svg xmlns=\"http://www.w3.org/2000/svg\" height=\"24px\"viewBox=\"0 0 24 24\"\n",
              "     width=\"24px\">\n",
              "    <g>\n",
              "        <path d=\"M19 3H5c-1.1 0-2 .9-2 2v14c0 1.1.9 2 2 2h14c1.1 0 2-.9 2-2V5c0-1.1-.9-2-2-2zM9 17H7v-7h2v7zm4 0h-2V7h2v10zm4 0h-2v-4h2v4z\"/>\n",
              "    </g>\n",
              "</svg>\n",
              "      </button>\n",
              "    </div>\n",
              "\n",
              "<style>\n",
              "  .colab-df-quickchart {\n",
              "    background-color: #E8F0FE;\n",
              "    border: none;\n",
              "    border-radius: 50%;\n",
              "    cursor: pointer;\n",
              "    display: none;\n",
              "    fill: #1967D2;\n",
              "    height: 32px;\n",
              "    padding: 0 0 0 0;\n",
              "    width: 32px;\n",
              "  }\n",
              "\n",
              "  .colab-df-quickchart:hover {\n",
              "    background-color: #E2EBFA;\n",
              "    box-shadow: 0px 1px 2px rgba(60, 64, 67, 0.3), 0px 1px 3px 1px rgba(60, 64, 67, 0.15);\n",
              "    fill: #174EA6;\n",
              "  }\n",
              "\n",
              "  [theme=dark] .colab-df-quickchart {\n",
              "    background-color: #3B4455;\n",
              "    fill: #D2E3FC;\n",
              "  }\n",
              "\n",
              "  [theme=dark] .colab-df-quickchart:hover {\n",
              "    background-color: #434B5C;\n",
              "    box-shadow: 0px 1px 3px 1px rgba(0, 0, 0, 0.15);\n",
              "    filter: drop-shadow(0px 1px 2px rgba(0, 0, 0, 0.3));\n",
              "    fill: #FFFFFF;\n",
              "  }\n",
              "</style>\n",
              "\n",
              "    <script>\n",
              "      async function quickchart(key) {\n",
              "        const containerElement = document.querySelector('#' + key);\n",
              "        const charts = await google.colab.kernel.invokeFunction(\n",
              "            'suggestCharts', [key], {});\n",
              "      }\n",
              "    </script>\n",
              "\n",
              "      <script>\n",
              "\n",
              "function displayQuickchartButton(domScope) {\n",
              "  let quickchartButtonEl =\n",
              "    domScope.querySelector('#df-72ff0075-51d8-43cf-a9b6-e396b1d4cef6 button.colab-df-quickchart');\n",
              "  quickchartButtonEl.style.display =\n",
              "    google.colab.kernel.accessAllowed ? 'block' : 'none';\n",
              "}\n",
              "\n",
              "        displayQuickchartButton(document);\n",
              "      </script>\n",
              "      <style>\n",
              "    .colab-df-container {\n",
              "      display:flex;\n",
              "      flex-wrap:wrap;\n",
              "      gap: 12px;\n",
              "    }\n",
              "\n",
              "    .colab-df-convert {\n",
              "      background-color: #E8F0FE;\n",
              "      border: none;\n",
              "      border-radius: 50%;\n",
              "      cursor: pointer;\n",
              "      display: none;\n",
              "      fill: #1967D2;\n",
              "      height: 32px;\n",
              "      padding: 0 0 0 0;\n",
              "      width: 32px;\n",
              "    }\n",
              "\n",
              "    .colab-df-convert:hover {\n",
              "      background-color: #E2EBFA;\n",
              "      box-shadow: 0px 1px 2px rgba(60, 64, 67, 0.3), 0px 1px 3px 1px rgba(60, 64, 67, 0.15);\n",
              "      fill: #174EA6;\n",
              "    }\n",
              "\n",
              "    [theme=dark] .colab-df-convert {\n",
              "      background-color: #3B4455;\n",
              "      fill: #D2E3FC;\n",
              "    }\n",
              "\n",
              "    [theme=dark] .colab-df-convert:hover {\n",
              "      background-color: #434B5C;\n",
              "      box-shadow: 0px 1px 3px 1px rgba(0, 0, 0, 0.15);\n",
              "      filter: drop-shadow(0px 1px 2px rgba(0, 0, 0, 0.3));\n",
              "      fill: #FFFFFF;\n",
              "    }\n",
              "  </style>\n",
              "\n",
              "      <script>\n",
              "        const buttonEl =\n",
              "          document.querySelector('#df-1bfce967-2084-4bef-8aef-9f7927f08ebb button.colab-df-convert');\n",
              "        buttonEl.style.display =\n",
              "          google.colab.kernel.accessAllowed ? 'block' : 'none';\n",
              "\n",
              "        async function convertToInteractive(key) {\n",
              "          const element = document.querySelector('#df-1bfce967-2084-4bef-8aef-9f7927f08ebb');\n",
              "          const dataTable =\n",
              "            await google.colab.kernel.invokeFunction('convertToInteractive',\n",
              "                                                     [key], {});\n",
              "          if (!dataTable) return;\n",
              "\n",
              "          const docLinkHtml = 'Like what you see? Visit the ' +\n",
              "            '<a target=\"_blank\" href=https://colab.research.google.com/notebooks/data_table.ipynb>data table notebook</a>'\n",
              "            + ' to learn more about interactive tables.';\n",
              "          element.innerHTML = '';\n",
              "          dataTable['output_type'] = 'display_data';\n",
              "          await google.colab.output.renderOutput(dataTable, element);\n",
              "          const docLink = document.createElement('div');\n",
              "          docLink.innerHTML = docLinkHtml;\n",
              "          element.appendChild(docLink);\n",
              "        }\n",
              "      </script>\n",
              "    </div>\n",
              "  </div>\n"
            ]
          },
          "metadata": {},
          "execution_count": 8
        }
      ],
      "source": [
        "added_cols =[\"Operatorname_0\",\"Operatorname_27201\",\"Operatorname_27202\",\"Operatorname_27203\",\"Operatorname_27205\",\n",
        "             \"Operatorname_A\",\"Operatorname_B\",\"path_bus\",\"path_car\",\"path_pedestrian\",\"path_static\",\"path_train\",\n",
        "             \"State_D\",\"State_I\",\"NetworkMode_EDGE\",\"NetworkMode_GPRS\",\"NetworkMode_HSDPA\",\"NetworkMode_HSPA+\",\n",
        "             \"NetworkMode_HSUPA\",\"NetworkMode_LTE\",\"NetworkMode_UMTS\"]\n",
        "df[added_cols].head()"
      ]
    },
    {
      "cell_type": "code",
      "execution_count": 39,
      "metadata": {
        "id": "j_DN2S9whakS",
        "outputId": "4d81b36e-dec2-4417-86da-bf08c2b5fa6e",
        "colab": {
          "base_uri": "https://localhost:8080/"
        }
      },
      "outputs": [
        {
          "output_type": "execute_result",
          "data": {
            "text/plain": [
              "tensor([[-99., -14.,  -2.,  ...,   0.,   1.,   0.],\n",
              "        [-99., -14.,  -1.,  ...,   0.,   1.,   0.],\n",
              "        [-99., -14.,  -2.,  ...,   0.,   1.,   0.],\n",
              "        ...,\n",
              "        [-85.,  -2.,   5.,  ...,   0.,   0.,   0.],\n",
              "        [-87.,  -2.,   5.,  ...,   0.,   0.,   0.],\n",
              "        [-87.,  -2.,   5.,  ...,  nan,  nan,  nan]])"
            ]
          },
          "metadata": {},
          "execution_count": 39
        }
      ],
      "source": [
        "indep_cols = [\"RSRP\",\"RSRQ\",\"SNR\",\"CQI\",\"RSSI\",\"DL_bitrate\",\"UL_bitrate\",\"NRxRSRP\",\"NRxRSRQ\",\"ServingCell_Lon\",\n",
        "              \t\"ServingCell_Lat\",\"ServingCell_Distance\"] +added_cols\n",
        "\n",
        "t_indep =tensor(df[indep_cols].values,dtype=torch.float)\n",
        "t_indep\n"
      ]
    },
    {
      "cell_type": "code",
      "execution_count": 10,
      "metadata": {
        "id": "msY0w4SmhakS",
        "outputId": "a64ea097-6eb7-4630-c2a8-594af0a3f5ec",
        "colab": {
          "base_uri": "https://localhost:8080/"
        }
      },
      "outputs": [
        {
          "output_type": "execute_result",
          "data": {
            "text/plain": [
              "torch.Size([59048, 33])"
            ]
          },
          "metadata": {},
          "execution_count": 10
        }
      ],
      "source": [
        "t_indep.shape"
      ]
    },
    {
      "cell_type": "code",
      "execution_count": 11,
      "metadata": {
        "id": "2Hx281qlhakS",
        "outputId": "7d5c4074-703d-4d88-e958-c47d88ed5698",
        "colab": {
          "base_uri": "https://localhost:8080/"
        }
      },
      "outputs": [
        {
          "output_type": "execute_result",
          "data": {
            "text/plain": [
              "tensor([-0.4629,  0.1386,  0.2409, -0.2262, -0.2632, -0.3147,  0.4876,  0.3136,\n",
              "         0.2799, -0.4392,  0.2103,  0.3625,  0.1722,  0.2324, -0.3575, -0.0010,\n",
              "        -0.1833, -0.2411,  0.0489,  0.0866, -0.0534,  0.3132, -0.1487, -0.2551,\n",
              "         0.3328,  0.1292,  0.2361, -0.2622,  0.4051, -0.2674, -0.2312,  0.1147,\n",
              "         0.4072])"
            ]
          },
          "metadata": {},
          "execution_count": 11
        }
      ],
      "source": [
        "torch.manual_seed(442)\n",
        "\n",
        "n_coeff = t_indep.shape[1]\n",
        "coeffs = torch.rand(n_coeff)-0.5\n",
        "coeffs"
      ]
    },
    {
      "cell_type": "code",
      "execution_count": 12,
      "metadata": {
        "id": "_mBiUT8YhakS"
      },
      "outputs": [],
      "source": [
        "def calc_preds(coeffs, indeps): return (indeps*coeffs).sum(axis=1)\n",
        "def calc_loss(coeffs, indeps, deps): return torch.abs(calc_preds(coeffs, indeps)-deps).mean()"
      ]
    },
    {
      "cell_type": "code",
      "execution_count": 13,
      "metadata": {
        "id": "3YabgTF_hakS",
        "outputId": "e52a9968-450e-4663-c4b3-fb5ac8297876",
        "colab": {
          "base_uri": "https://localhost:8080/"
        }
      },
      "outputs": [
        {
          "output_type": "execute_result",
          "data": {
            "text/plain": [
              "tensor([-0.4629,  0.1386,  0.2409, -0.2262, -0.2632, -0.3147,  0.4876,  0.3136,\n",
              "         0.2799, -0.4392,  0.2103,  0.3625,  0.1722,  0.2324, -0.3575, -0.0010,\n",
              "        -0.1833, -0.2411,  0.0489,  0.0866, -0.0534,  0.3132, -0.1487, -0.2551,\n",
              "         0.3328,  0.1292,  0.2361, -0.2622,  0.4051, -0.2674, -0.2312,  0.1147,\n",
              "         0.4072], requires_grad=True)"
            ]
          },
          "metadata": {},
          "execution_count": 13
        }
      ],
      "source": [
        "coeffs.requires_grad_()"
      ]
    },
    {
      "cell_type": "code",
      "execution_count": 14,
      "metadata": {
        "id": "SCH4GusMhakS",
        "outputId": "46a20b64-d316-433d-c206-001e7a926869",
        "colab": {
          "base_uri": "https://localhost:8080/"
        }
      },
      "outputs": [
        {
          "output_type": "execute_result",
          "data": {
            "text/plain": [
              "tensor(nan, grad_fn=<MeanBackward0>)"
            ]
          },
          "metadata": {},
          "execution_count": 14
        }
      ],
      "source": [
        "loss = calc_loss(coeffs, t_indep, t_dep)\n",
        "loss"
      ]
    },
    {
      "cell_type": "code",
      "execution_count": 15,
      "metadata": {
        "id": "oNeqFJ3IhakT"
      },
      "outputs": [],
      "source": [
        "loss.backward()"
      ]
    },
    {
      "cell_type": "code",
      "execution_count": 16,
      "metadata": {
        "id": "NLSbFrqBhakT",
        "outputId": "e92aa192-0f55-4f68-d19f-a3ae8f2f6d39",
        "colab": {
          "base_uri": "https://localhost:8080/"
        }
      },
      "outputs": [
        {
          "output_type": "execute_result",
          "data": {
            "text/plain": [
              "tensor([ 4.8949e+01,  4.6307e+00, -4.5625e+00, -4.7897e+00,  4.9565e+01,\n",
              "        -1.0534e+04, -1.7331e+02,  3.8852e+01,  1.2486e+01,  4.9439e+00,\n",
              "        -3.0551e+01,  3.0271e+03,  2.7774e-03,  0.0000e+00, -2.5403e-04,\n",
              "         0.0000e+00,  1.6935e-05,         nan,         nan,         nan,\n",
              "                nan,         nan,         nan,         nan,         nan,\n",
              "                nan,         nan,         nan,         nan,         nan,\n",
              "                nan,         nan,         nan])"
            ]
          },
          "metadata": {},
          "execution_count": 16
        }
      ],
      "source": [
        "coeffs.grad"
      ]
    },
    {
      "cell_type": "code",
      "execution_count": 17,
      "metadata": {
        "id": "C8D4A0aMhakT",
        "outputId": "ed76acbc-7eed-49f6-c218-4037db5f5497",
        "colab": {
          "base_uri": "https://localhost:8080/"
        }
      },
      "outputs": [
        {
          "output_type": "execute_result",
          "data": {
            "text/plain": [
              "tensor([ 9.7897e+01,  9.2613e+00, -9.1251e+00, -9.5794e+00,  9.9129e+01,\n",
              "        -2.1068e+04, -3.4662e+02,  7.7703e+01,  2.4971e+01,  9.8879e+00,\n",
              "        -6.1101e+01,  6.0543e+03,  5.5548e-03,  0.0000e+00, -5.0806e-04,\n",
              "         0.0000e+00,  3.3871e-05,         nan,         nan,         nan,\n",
              "                nan,         nan,         nan,         nan,         nan,\n",
              "                nan,         nan,         nan,         nan,         nan,\n",
              "                nan,         nan,         nan])"
            ]
          },
          "metadata": {},
          "execution_count": 17
        }
      ],
      "source": [
        "loss = calc_loss(coeffs, t_indep, t_dep)\n",
        "loss.backward()\n",
        "coeffs.grad"
      ]
    },
    {
      "cell_type": "code",
      "execution_count": 18,
      "metadata": {
        "id": "KgLhvGQnhakU",
        "outputId": "30aa3175-974e-49a5-8d24-6b85dd80bc39",
        "colab": {
          "base_uri": "https://localhost:8080/"
        }
      },
      "outputs": [
        {
          "output_type": "stream",
          "name": "stdout",
          "text": [
            "tensor(nan)\n"
          ]
        }
      ],
      "source": [
        "loss = calc_loss(coeffs, t_indep, t_dep)\n",
        "loss.backward()\n",
        "with torch.no_grad():\n",
        "    coeffs.sub_(coeffs.grad * 0.1)\n",
        "    coeffs.grad.zero_()\n",
        "    print(calc_loss(coeffs, t_indep, t_dep))"
      ]
    },
    {
      "cell_type": "code",
      "execution_count": 19,
      "metadata": {
        "id": "PvBTIBGNhakU"
      },
      "outputs": [],
      "source": [
        "from fastai.data.transforms import RandomSplitter\n",
        "trn_split,val_split=RandomSplitter(seed=42)(df)"
      ]
    },
    {
      "cell_type": "code",
      "source": [
        "trn_indep,val_indep = t_indep[trn_split],t_indep[val_split]\n",
        "trn_dep,val_dep = t_dep[trn_split],t_dep[val_split]\n",
        "len(trn_indep),len(val_indep)"
      ],
      "metadata": {
        "id": "TTz0pDSSjdkG",
        "outputId": "3a748c21-0e64-4bd4-fefa-3b4a704cec25",
        "colab": {
          "base_uri": "https://localhost:8080/"
        }
      },
      "execution_count": 20,
      "outputs": [
        {
          "output_type": "execute_result",
          "data": {
            "text/plain": [
              "(47239, 11809)"
            ]
          },
          "metadata": {},
          "execution_count": 20
        }
      ]
    },
    {
      "cell_type": "code",
      "source": [
        "def update_coeffs(coeffs, lr):\n",
        "    coeffs.sub_(coeffs.grad * lr)\n",
        "    coeffs.grad.zero_()"
      ],
      "metadata": {
        "id": "tNGlbQpoj4He"
      },
      "execution_count": 21,
      "outputs": []
    },
    {
      "cell_type": "code",
      "source": [
        "def one_epoch(coeffs, lr):\n",
        "    loss = calc_loss(coeffs, trn_indep, trn_dep)\n",
        "    loss.backward()\n",
        "    with torch.no_grad(): update_coeffs(coeffs, lr)\n",
        "    print(f\"{loss:.3f}\", end=\"; \")"
      ],
      "metadata": {
        "id": "0Wqt0wzxj7du"
      },
      "execution_count": 22,
      "outputs": []
    },
    {
      "cell_type": "code",
      "source": [
        "def init_coeffs(): return (torch.rand(n_coeff)-0.5).requires_grad_()"
      ],
      "metadata": {
        "id": "gKSD9w95j_nF"
      },
      "execution_count": 23,
      "outputs": []
    },
    {
      "cell_type": "code",
      "source": [
        "def train_model(epochs=30, lr=0.01):\n",
        "    torch.manual_seed(442)\n",
        "    coeffs = init_coeffs()\n",
        "    for i in range(epochs): one_epoch(coeffs, lr=lr)\n",
        "    return coeffs"
      ],
      "metadata": {
        "id": "ctfYdi5VkDA-"
      },
      "execution_count": 24,
      "outputs": []
    },
    {
      "cell_type": "code",
      "source": [
        "coeffs = train_model(18, lr=0.2)"
      ],
      "metadata": {
        "id": "4nYsuMvRkGRQ",
        "outputId": "c062ff57-7f7f-4493-f99c-afc9ddb33fec",
        "colab": {
          "base_uri": "https://localhost:8080/"
        }
      },
      "execution_count": 37,
      "outputs": [
        {
          "output_type": "stream",
          "name": "stdout",
          "text": [
            "nan; nan; nan; nan; nan; nan; nan; nan; nan; nan; nan; nan; nan; nan; nan; nan; nan; nan; "
          ]
        }
      ]
    },
    {
      "cell_type": "code",
      "source": [
        "def show_coeffs(): return dict(zip(indep_cols, coeffs.requires_grad_(False)))\n",
        "show_coeffs()"
      ],
      "metadata": {
        "id": "AhMoahqokTCc",
        "outputId": "00c8d5e6-74aa-4fe1-8f05-30fca0a38352",
        "colab": {
          "base_uri": "https://localhost:8080/"
        }
      },
      "execution_count": 38,
      "outputs": [
        {
          "output_type": "execute_result",
          "data": {
            "text/plain": [
              "{'RSRP': tensor(nan),\n",
              " 'RSRQ': tensor(nan),\n",
              " 'SNR': tensor(nan),\n",
              " 'CQI': tensor(nan),\n",
              " 'RSSI': tensor(nan),\n",
              " 'DL_bitrate': tensor(nan),\n",
              " 'UL_bitrate': tensor(nan),\n",
              " 'NRxRSRP': tensor(nan),\n",
              " 'NRxRSRQ': tensor(nan),\n",
              " 'ServingCell_Lon': tensor(nan),\n",
              " 'ServingCell_Lat': tensor(nan),\n",
              " 'ServingCell_Distance': tensor(nan),\n",
              " 'Operatorname_0': tensor(nan),\n",
              " 'Operatorname_27201': tensor(nan),\n",
              " 'Operatorname_27202': tensor(nan),\n",
              " 'Operatorname_27203': tensor(nan),\n",
              " 'Operatorname_27205': tensor(nan),\n",
              " 'Operatorname_A': tensor(nan),\n",
              " 'Operatorname_B': tensor(nan),\n",
              " 'path_bus': tensor(nan),\n",
              " 'path_car': tensor(nan),\n",
              " 'path_pedestrian': tensor(nan),\n",
              " 'path_static': tensor(nan),\n",
              " 'path_train': tensor(nan),\n",
              " 'State_D': tensor(nan),\n",
              " 'State_I': tensor(nan),\n",
              " 'NetworkMode_EDGE': tensor(nan),\n",
              " 'NetworkMode_GPRS': tensor(nan),\n",
              " 'NetworkMode_HSDPA': tensor(nan),\n",
              " 'NetworkMode_HSPA+': tensor(nan),\n",
              " 'NetworkMode_HSUPA': tensor(nan),\n",
              " 'NetworkMode_LTE': tensor(nan),\n",
              " 'NetworkMode_UMTS': tensor(nan)}"
            ]
          },
          "metadata": {},
          "execution_count": 38
        }
      ]
    },
    {
      "cell_type": "code",
      "source": [
        "preds = calc_preds(coeffs, val_indep)"
      ],
      "metadata": {
        "id": "H7qVXC4RkcIw"
      },
      "execution_count": 27,
      "outputs": []
    },
    {
      "cell_type": "code",
      "source": [
        "results = val_dep.bool()==(preds>0.5)\n",
        "results[:16]"
      ],
      "metadata": {
        "id": "ia0tBnHTkfKZ",
        "outputId": "e99fc2a2-ec63-47ad-d2df-0b89f1497840",
        "colab": {
          "base_uri": "https://localhost:8080/"
        }
      },
      "execution_count": 28,
      "outputs": [
        {
          "output_type": "execute_result",
          "data": {
            "text/plain": [
              "tensor([False,  True,  True, False, False,  True, False, False, False,  True,\n",
              "         True,  True,  True,  True, False,  True])"
            ]
          },
          "metadata": {},
          "execution_count": 28
        }
      ]
    },
    {
      "cell_type": "code",
      "source": [
        "results.float().mean()"
      ],
      "metadata": {
        "id": "VI6fqr8IkkSS",
        "outputId": "9be7abf0-5a10-4c6b-c086-692f9e14a32e",
        "colab": {
          "base_uri": "https://localhost:8080/"
        }
      },
      "execution_count": 29,
      "outputs": [
        {
          "output_type": "execute_result",
          "data": {
            "text/plain": [
              "tensor(0.3685)"
            ]
          },
          "metadata": {},
          "execution_count": 29
        }
      ]
    },
    {
      "cell_type": "code",
      "source": [
        "def acc(coeffs): return (val_dep.bool()==(calc_preds(coeffs, val_indep)>0.5)).float().mean()\n",
        "acc(coeffs)"
      ],
      "metadata": {
        "id": "gv5gfYKwknMo",
        "outputId": "a0731cb8-defa-4abf-9978-4490dafb7e56",
        "colab": {
          "base_uri": "https://localhost:8080/"
        }
      },
      "execution_count": 30,
      "outputs": [
        {
          "output_type": "execute_result",
          "data": {
            "text/plain": [
              "tensor(0.3685)"
            ]
          },
          "metadata": {},
          "execution_count": 30
        }
      ]
    },
    {
      "cell_type": "code",
      "source": [
        "preds[:28]"
      ],
      "metadata": {
        "id": "szQRTXSNkqrg",
        "outputId": "52f0ad3c-c871-4a28-dced-ae97847032ac",
        "colab": {
          "base_uri": "https://localhost:8080/"
        }
      },
      "execution_count": 31,
      "outputs": [
        {
          "output_type": "execute_result",
          "data": {
            "text/plain": [
              "tensor([nan, nan, nan, nan, nan, nan, nan, nan, nan, nan, nan, nan, nan, nan, nan, nan, nan, nan, nan, nan, nan, nan, nan, nan,\n",
              "        nan, nan, nan, nan])"
            ]
          },
          "metadata": {},
          "execution_count": 31
        }
      ]
    },
    {
      "cell_type": "code",
      "source": [
        "import sympy\n",
        "sympy.plot(\"1/(1+exp(-x))\", xlim=(-5,5));"
      ],
      "metadata": {
        "id": "43teVuG5kvWi",
        "outputId": "5ec7bb8b-e59d-4096-f1fc-02c4acfc3a43",
        "colab": {
          "base_uri": "https://localhost:8080/",
          "height": 484
        }
      },
      "execution_count": 32,
      "outputs": [
        {
          "output_type": "display_data",
          "data": {
            "text/plain": [
              "<Figure size 640x480 with 1 Axes>"
            ],
            "image/png": "[encoded data removed]"
          },
          "metadata": {}
        }
      ]
    },
    {
      "cell_type": "code",
      "source": [
        "def calc_preds(coeffs, indeps): return torch.sigmoid((indeps*coeffs).sum(axis=1))"
      ],
      "metadata": {
        "id": "JhgJcRLzkzQG"
      },
      "execution_count": 33,
      "outputs": []
    },
    {
      "cell_type": "code",
      "source": [
        "coeffs = train_model(lr=100)"
      ],
      "metadata": {
        "id": "AzWdmAwWk0e2",
        "outputId": "4dedbfa9-636b-4d24-8cb0-c10b864c93b0",
        "colab": {
          "base_uri": "https://localhost:8080/"
        }
      },
      "execution_count": 34,
      "outputs": [
        {
          "output_type": "stream",
          "name": "stdout",
          "text": [
            "nan; nan; nan; nan; nan; nan; nan; nan; nan; nan; nan; nan; nan; nan; nan; nan; nan; nan; nan; nan; nan; nan; nan; nan; nan; nan; nan; nan; nan; nan; "
          ]
        }
      ]
    },
    {
      "cell_type": "code",
      "source": [
        "acc(coeffs)"
      ],
      "metadata": {
        "id": "ZNRiT_gKk4Xd",
        "outputId": "0bfb0a85-8206-4f3f-8f7c-6f861bba8b28",
        "colab": {
          "base_uri": "https://localhost:8080/"
        }
      },
      "execution_count": 35,
      "outputs": [
        {
          "output_type": "execute_result",
          "data": {
            "text/plain": [
              "tensor(0.3685)"
            ]
          },
          "metadata": {},
          "execution_count": 35
        }
      ]
    },
    {
      "cell_type": "code",
      "source": [
        "show_coeffs()"
      ],
      "metadata": {
        "id": "qmU1T8sck64x",
        "outputId": "6c1b5d00-d069-4078-e3fa-6bcf404610d3",
        "colab": {
          "base_uri": "https://localhost:8080/"
        }
      },
      "execution_count": 36,
      "outputs": [
        {
          "output_type": "execute_result",
          "data": {
            "text/plain": [
              "{'RSRP': tensor(nan),\n",
              " 'RSRQ': tensor(nan),\n",
              " 'SNR': tensor(nan),\n",
              " 'CQI': tensor(nan),\n",
              " 'RSSI': tensor(nan),\n",
              " 'DL_bitrate': tensor(nan),\n",
              " 'UL_bitrate': tensor(nan),\n",
              " 'NRxRSRP': tensor(nan),\n",
              " 'NRxRSRQ': tensor(nan),\n",
              " 'ServingCell_Lon': tensor(nan),\n",
              " 'ServingCell_Lat': tensor(nan),\n",
              " 'ServingCell_Distance': tensor(nan),\n",
              " 'Operatorname_0': tensor(nan),\n",
              " 'Operatorname_27201': tensor(nan),\n",
              " 'Operatorname_27202': tensor(nan),\n",
              " 'Operatorname_27203': tensor(nan),\n",
              " 'Operatorname_27205': tensor(nan),\n",
              " 'Operatorname_A': tensor(nan),\n",
              " 'Operatorname_B': tensor(nan),\n",
              " 'path_bus': tensor(nan),\n",
              " 'path_car': tensor(nan),\n",
              " 'path_pedestrian': tensor(nan),\n",
              " 'path_static': tensor(nan),\n",
              " 'path_train': tensor(nan),\n",
              " 'State_D': tensor(nan),\n",
              " 'State_I': tensor(nan),\n",
              " 'NetworkMode_EDGE': tensor(nan),\n",
              " 'NetworkMode_GPRS': tensor(nan),\n",
              " 'NetworkMode_HSDPA': tensor(nan),\n",
              " 'NetworkMode_HSPA+': tensor(nan),\n",
              " 'NetworkMode_HSUPA': tensor(nan),\n",
              " 'NetworkMode_LTE': tensor(nan),\n",
              " 'NetworkMode_UMTS': tensor(nan)}"
            ]
          },
          "metadata": {},
          "execution_count": 36
        }
      ]
    }
  ],
  "metadata": {
    "kernelspec": {
      "display_name": "base",
      "language": "python",
      "name": "python3"
    },
    "language_info": {
      "codemirror_mode": {
        "name": "ipython",
        "version": 3
      },
      "file_extension": ".py",
      "mimetype": "text/x-python",
      "name": "python",
      "nbconvert_exporter": "python",
      "pygments_lexer": "ipython3",
      "version": "3.6.5"
    },
    "orig_nbformat": 4,
    "colab": {
      "provenance": []
    }
  },
  "nbformat": 4,
  "nbformat_minor": 0
}